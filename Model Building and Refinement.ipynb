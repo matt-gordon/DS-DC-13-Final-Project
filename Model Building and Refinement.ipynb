{
 "cells": [
  {
   "cell_type": "code",
   "execution_count": 66,
   "metadata": {
    "collapsed": true
   },
   "outputs": [],
   "source": [
    "import pandas as pd\n",
    "import numpy as np\n",
    "import matplotlib.pyplot as plt\n",
    "import seaborn as sns\n",
    "import random\n",
    "import os\n",
    "\n",
    "from sklearn import cross_validation\n",
    "from sklearn import neighbors\n",
    "from sklearn import grid_search\n",
    "from sklearn import metrics\n",
    "from sklearn import linear_model\n",
    "\n",
    "% matplotlib inline"
   ]
  },
  {
   "cell_type": "code",
   "execution_count": 9,
   "metadata": {
    "collapsed": false
   },
   "outputs": [
    {
     "data": {
      "text/html": [
       "<div>\n",
       "<table border=\"1\" class=\"dataframe\">\n",
       "  <thead>\n",
       "    <tr style=\"text-align: right;\">\n",
       "      <th></th>\n",
       "      <th>standup_chair</th>\n",
       "      <th>sitdown_chair</th>\n",
       "      <th>comb_hair</th>\n",
       "      <th>walk</th>\n",
       "      <th>descend_stairs</th>\n",
       "      <th>drink_glass</th>\n",
       "      <th>eat_meat</th>\n",
       "      <th>eat_soup</th>\n",
       "      <th>pour_water</th>\n",
       "      <th>liedown_bed</th>\n",
       "      <th>getup_bed</th>\n",
       "      <th>use_telephone</th>\n",
       "      <th>brush_teeth</th>\n",
       "    </tr>\n",
       "  </thead>\n",
       "  <tbody>\n",
       "    <tr>\n",
       "      <th>0</th>\n",
       "      <td>Accelerometer-2011-03-23-10-39-18-standup_chai...</td>\n",
       "      <td>Accelerometer-2011-03-24-09-50-16-sitdown_chai...</td>\n",
       "      <td>Accelerometer-2011-03-24-09-44-34-comb_hair-f1...</td>\n",
       "      <td>Accelerometer-2011-03-24-09-51-07-walk-f1.txt</td>\n",
       "      <td>Accelerometer-2011-03-24-10-24-02-descend_stai...</td>\n",
       "      <td>Accelerometer-2011-03-24-10-07-02-drink_glass-...</td>\n",
       "      <td>Accelerometer-2011-03-24-13-06-15-eat_meat-f1.txt</td>\n",
       "      <td>Accelerometer-2011-03-24-13-33-22-eat_soup-f1.txt</td>\n",
       "      <td>Accelerometer-2011-03-24-10-04-32-pour_water-f...</td>\n",
       "      <td>Accelerometer-2011-03-29-09-19-22-liedown_bed-...</td>\n",
       "      <td>Accelerometer-2011-03-29-09-21-17-getup_bed-f1...</td>\n",
       "      <td>Accelerometer-2011-03-29-09-30-56-use_telephon...</td>\n",
       "      <td>Accelerometer-2011-04-11-13-28-18-brush_teeth-...</td>\n",
       "    </tr>\n",
       "    <tr>\n",
       "      <th>1</th>\n",
       "      <td>Accelerometer-2011-03-23-10-42-01-standup_chai...</td>\n",
       "      <td>Accelerometer-2011-03-24-10-27-33-sitdown_chai...</td>\n",
       "      <td>Accelerometer-2011-03-24-10-26-33-comb_hair-f1...</td>\n",
       "      <td>Accelerometer-2011-03-24-09-52-11-walk-f1.txt</td>\n",
       "      <td>Accelerometer-2011-03-24-10-25-11-descend_stai...</td>\n",
       "      <td>Accelerometer-2011-03-24-10-16-02-drink_glass-...</td>\n",
       "      <td>Accelerometer-2011-03-24-13-10-14-eat_meat-f1.txt</td>\n",
       "      <td>Accelerometer-2011-03-24-13-44-18-eat_soup-f1.txt</td>\n",
       "      <td>Accelerometer-2011-03-24-10-51-12-pour_water-f...</td>\n",
       "      <td>Accelerometer-2011-03-29-09-23-22-liedown_bed-...</td>\n",
       "      <td>Accelerometer-2011-03-29-09-24-50-getup_bed-f1...</td>\n",
       "      <td>Accelerometer-2011-03-29-09-32-59-use_telephon...</td>\n",
       "      <td>Accelerometer-2011-04-11-13-29-54-brush_teeth-...</td>\n",
       "    </tr>\n",
       "    <tr>\n",
       "      <th>2</th>\n",
       "      <td>Accelerometer-2011-03-23-10-45-51-standup_chai...</td>\n",
       "      <td>Accelerometer-2011-03-24-16-09-29-sitdown_chai...</td>\n",
       "      <td>Accelerometer-2011-03-24-10-57-40-comb_hair-f1...</td>\n",
       "      <td>Accelerometer-2011-03-24-10-58-34-walk-f1.txt</td>\n",
       "      <td>Accelerometer-2011-03-24-11-20-43-descend_stai...</td>\n",
       "      <td>Accelerometer-2011-03-24-10-46-25-drink_glass-...</td>\n",
       "      <td>Accelerometer-2011-03-24-13-12-52-eat_meat-f1.txt</td>\n",
       "      <td>Accelerometer-2011-03-24-13-56-42-eat_soup-f1.txt</td>\n",
       "      <td>Accelerometer-2011-03-24-13-30-01-pour_water-f...</td>\n",
       "      <td>Accelerometer-2011-03-29-09-45-46-liedown_bed-...</td>\n",
       "      <td>Accelerometer-2011-03-29-09-49-03-getup_bed-f1...</td>\n",
       "      <td>Accelerometer-2011-03-29-09-52-41-use_telephon...</td>\n",
       "      <td>Accelerometer-2011-05-30-08-35-11-brush_teeth-...</td>\n",
       "    </tr>\n",
       "    <tr>\n",
       "      <th>3</th>\n",
       "      <td>Accelerometer-2011-03-23-10-47-59-standup_chai...</td>\n",
       "      <td>Accelerometer-2011-03-29-09-06-48-sitdown_chai...</td>\n",
       "      <td>Accelerometer-2011-03-24-16-10-36-comb_hair-f2...</td>\n",
       "      <td>Accelerometer-2011-03-24-11-20-24-walk-f1.txt</td>\n",
       "      <td>Accelerometer-2011-03-29-09-15-58-descend_stai...</td>\n",
       "      <td>Accelerometer-2011-03-24-11-14-00-drink_glass-...</td>\n",
       "      <td>Accelerometer-2011-03-24-13-17-42-eat_meat-f1.txt</td>\n",
       "      <td>NaN</td>\n",
       "      <td>Accelerometer-2011-04-05-18-54-14-pour_water-f...</td>\n",
       "      <td>Accelerometer-2011-04-05-18-27-12-liedown_bed-...</td>\n",
       "      <td>Accelerometer-2011-04-05-18-28-21-getup_bed-f1...</td>\n",
       "      <td>Accelerometer-2011-04-05-18-29-19-use_telephon...</td>\n",
       "      <td>Accelerometer-2011-05-30-09-36-50-brush_teeth-...</td>\n",
       "    </tr>\n",
       "    <tr>\n",
       "      <th>4</th>\n",
       "      <td>Accelerometer-2011-03-24-09-49-36-standup_chai...</td>\n",
       "      <td>Accelerometer-2011-03-29-09-12-27-sitdown_chai...</td>\n",
       "      <td>Accelerometer-2011-03-29-08-57-24-comb_hair-f1...</td>\n",
       "      <td>Accelerometer-2011-03-24-11-21-13-walk-f1.txt</td>\n",
       "      <td>Accelerometer-2011-03-29-16-16-34-descend_stai...</td>\n",
       "      <td>Accelerometer-2011-03-24-13-09-29-drink_glass-...</td>\n",
       "      <td>Accelerometer-2011-03-24-13-21-39-eat_meat-f1.txt</td>\n",
       "      <td>NaN</td>\n",
       "      <td>Accelerometer-2011-04-11-12-55-26-pour_water-f...</td>\n",
       "      <td>Accelerometer-2011-04-11-11-52-20-liedown_bed-...</td>\n",
       "      <td>Accelerometer-2011-04-11-11-53-01-getup_bed-f1...</td>\n",
       "      <td>Accelerometer-2011-04-11-11-53-34-use_telephon...</td>\n",
       "      <td>Accelerometer-2011-05-30-10-34-16-brush_teeth-...</td>\n",
       "    </tr>\n",
       "  </tbody>\n",
       "</table>\n",
       "</div>"
      ],
      "text/plain": [
       "                                       standup_chair  \\\n",
       "0  Accelerometer-2011-03-23-10-39-18-standup_chai...   \n",
       "1  Accelerometer-2011-03-23-10-42-01-standup_chai...   \n",
       "2  Accelerometer-2011-03-23-10-45-51-standup_chai...   \n",
       "3  Accelerometer-2011-03-23-10-47-59-standup_chai...   \n",
       "4  Accelerometer-2011-03-24-09-49-36-standup_chai...   \n",
       "\n",
       "                                       sitdown_chair  \\\n",
       "0  Accelerometer-2011-03-24-09-50-16-sitdown_chai...   \n",
       "1  Accelerometer-2011-03-24-10-27-33-sitdown_chai...   \n",
       "2  Accelerometer-2011-03-24-16-09-29-sitdown_chai...   \n",
       "3  Accelerometer-2011-03-29-09-06-48-sitdown_chai...   \n",
       "4  Accelerometer-2011-03-29-09-12-27-sitdown_chai...   \n",
       "\n",
       "                                           comb_hair  \\\n",
       "0  Accelerometer-2011-03-24-09-44-34-comb_hair-f1...   \n",
       "1  Accelerometer-2011-03-24-10-26-33-comb_hair-f1...   \n",
       "2  Accelerometer-2011-03-24-10-57-40-comb_hair-f1...   \n",
       "3  Accelerometer-2011-03-24-16-10-36-comb_hair-f2...   \n",
       "4  Accelerometer-2011-03-29-08-57-24-comb_hair-f1...   \n",
       "\n",
       "                                            walk  \\\n",
       "0  Accelerometer-2011-03-24-09-51-07-walk-f1.txt   \n",
       "1  Accelerometer-2011-03-24-09-52-11-walk-f1.txt   \n",
       "2  Accelerometer-2011-03-24-10-58-34-walk-f1.txt   \n",
       "3  Accelerometer-2011-03-24-11-20-24-walk-f1.txt   \n",
       "4  Accelerometer-2011-03-24-11-21-13-walk-f1.txt   \n",
       "\n",
       "                                      descend_stairs  \\\n",
       "0  Accelerometer-2011-03-24-10-24-02-descend_stai...   \n",
       "1  Accelerometer-2011-03-24-10-25-11-descend_stai...   \n",
       "2  Accelerometer-2011-03-24-11-20-43-descend_stai...   \n",
       "3  Accelerometer-2011-03-29-09-15-58-descend_stai...   \n",
       "4  Accelerometer-2011-03-29-16-16-34-descend_stai...   \n",
       "\n",
       "                                         drink_glass  \\\n",
       "0  Accelerometer-2011-03-24-10-07-02-drink_glass-...   \n",
       "1  Accelerometer-2011-03-24-10-16-02-drink_glass-...   \n",
       "2  Accelerometer-2011-03-24-10-46-25-drink_glass-...   \n",
       "3  Accelerometer-2011-03-24-11-14-00-drink_glass-...   \n",
       "4  Accelerometer-2011-03-24-13-09-29-drink_glass-...   \n",
       "\n",
       "                                            eat_meat  \\\n",
       "0  Accelerometer-2011-03-24-13-06-15-eat_meat-f1.txt   \n",
       "1  Accelerometer-2011-03-24-13-10-14-eat_meat-f1.txt   \n",
       "2  Accelerometer-2011-03-24-13-12-52-eat_meat-f1.txt   \n",
       "3  Accelerometer-2011-03-24-13-17-42-eat_meat-f1.txt   \n",
       "4  Accelerometer-2011-03-24-13-21-39-eat_meat-f1.txt   \n",
       "\n",
       "                                            eat_soup  \\\n",
       "0  Accelerometer-2011-03-24-13-33-22-eat_soup-f1.txt   \n",
       "1  Accelerometer-2011-03-24-13-44-18-eat_soup-f1.txt   \n",
       "2  Accelerometer-2011-03-24-13-56-42-eat_soup-f1.txt   \n",
       "3                                                NaN   \n",
       "4                                                NaN   \n",
       "\n",
       "                                          pour_water  \\\n",
       "0  Accelerometer-2011-03-24-10-04-32-pour_water-f...   \n",
       "1  Accelerometer-2011-03-24-10-51-12-pour_water-f...   \n",
       "2  Accelerometer-2011-03-24-13-30-01-pour_water-f...   \n",
       "3  Accelerometer-2011-04-05-18-54-14-pour_water-f...   \n",
       "4  Accelerometer-2011-04-11-12-55-26-pour_water-f...   \n",
       "\n",
       "                                         liedown_bed  \\\n",
       "0  Accelerometer-2011-03-29-09-19-22-liedown_bed-...   \n",
       "1  Accelerometer-2011-03-29-09-23-22-liedown_bed-...   \n",
       "2  Accelerometer-2011-03-29-09-45-46-liedown_bed-...   \n",
       "3  Accelerometer-2011-04-05-18-27-12-liedown_bed-...   \n",
       "4  Accelerometer-2011-04-11-11-52-20-liedown_bed-...   \n",
       "\n",
       "                                           getup_bed  \\\n",
       "0  Accelerometer-2011-03-29-09-21-17-getup_bed-f1...   \n",
       "1  Accelerometer-2011-03-29-09-24-50-getup_bed-f1...   \n",
       "2  Accelerometer-2011-03-29-09-49-03-getup_bed-f1...   \n",
       "3  Accelerometer-2011-04-05-18-28-21-getup_bed-f1...   \n",
       "4  Accelerometer-2011-04-11-11-53-01-getup_bed-f1...   \n",
       "\n",
       "                                       use_telephone  \\\n",
       "0  Accelerometer-2011-03-29-09-30-56-use_telephon...   \n",
       "1  Accelerometer-2011-03-29-09-32-59-use_telephon...   \n",
       "2  Accelerometer-2011-03-29-09-52-41-use_telephon...   \n",
       "3  Accelerometer-2011-04-05-18-29-19-use_telephon...   \n",
       "4  Accelerometer-2011-04-11-11-53-34-use_telephon...   \n",
       "\n",
       "                                         brush_teeth  \n",
       "0  Accelerometer-2011-04-11-13-28-18-brush_teeth-...  \n",
       "1  Accelerometer-2011-04-11-13-29-54-brush_teeth-...  \n",
       "2  Accelerometer-2011-05-30-08-35-11-brush_teeth-...  \n",
       "3  Accelerometer-2011-05-30-09-36-50-brush_teeth-...  \n",
       "4  Accelerometer-2011-05-30-10-34-16-brush_teeth-...  "
      ]
     },
     "execution_count": 9,
     "metadata": {},
     "output_type": "execute_result"
    }
   ],
   "source": [
    "# Could add in a routine here that checks if the test & train files already exist and if so, ignore the set generation\n",
    "# and instead load in the files and initialise the dataframes\n",
    "dataset = pd.read_csv(\"MasterFileDF.csv\")\n",
    "dataset.head()"
   ]
  },
  {
   "cell_type": "code",
   "execution_count": 10,
   "metadata": {
    "collapsed": false
   },
   "outputs": [
    {
     "data": {
      "text/html": [
       "<div>\n",
       "<table border=\"1\" class=\"dataframe\">\n",
       "  <thead>\n",
       "    <tr style=\"text-align: right;\">\n",
       "      <th></th>\n",
       "      <th>standup_chair</th>\n",
       "      <th>sitdown_chair</th>\n",
       "      <th>comb_hair</th>\n",
       "      <th>walk</th>\n",
       "      <th>descend_stairs</th>\n",
       "      <th>drink_glass</th>\n",
       "      <th>pour_water</th>\n",
       "      <th>liedown_bed</th>\n",
       "      <th>getup_bed</th>\n",
       "      <th>use_telephone</th>\n",
       "      <th>brush_teeth</th>\n",
       "    </tr>\n",
       "  </thead>\n",
       "  <tbody>\n",
       "    <tr>\n",
       "      <th>0</th>\n",
       "      <td>Accelerometer-2011-03-23-10-39-18-standup_chai...</td>\n",
       "      <td>Accelerometer-2011-03-24-09-50-16-sitdown_chai...</td>\n",
       "      <td>Accelerometer-2011-03-24-09-44-34-comb_hair-f1...</td>\n",
       "      <td>Accelerometer-2011-03-24-09-51-07-walk-f1.txt</td>\n",
       "      <td>Accelerometer-2011-03-24-10-24-02-descend_stai...</td>\n",
       "      <td>Accelerometer-2011-03-24-10-07-02-drink_glass-...</td>\n",
       "      <td>Accelerometer-2011-03-24-10-04-32-pour_water-f...</td>\n",
       "      <td>Accelerometer-2011-03-29-09-19-22-liedown_bed-...</td>\n",
       "      <td>Accelerometer-2011-03-29-09-21-17-getup_bed-f1...</td>\n",
       "      <td>Accelerometer-2011-03-29-09-30-56-use_telephon...</td>\n",
       "      <td>Accelerometer-2011-04-11-13-28-18-brush_teeth-...</td>\n",
       "    </tr>\n",
       "    <tr>\n",
       "      <th>1</th>\n",
       "      <td>Accelerometer-2011-03-23-10-42-01-standup_chai...</td>\n",
       "      <td>Accelerometer-2011-03-24-10-27-33-sitdown_chai...</td>\n",
       "      <td>Accelerometer-2011-03-24-10-26-33-comb_hair-f1...</td>\n",
       "      <td>Accelerometer-2011-03-24-09-52-11-walk-f1.txt</td>\n",
       "      <td>Accelerometer-2011-03-24-10-25-11-descend_stai...</td>\n",
       "      <td>Accelerometer-2011-03-24-10-16-02-drink_glass-...</td>\n",
       "      <td>Accelerometer-2011-03-24-10-51-12-pour_water-f...</td>\n",
       "      <td>Accelerometer-2011-03-29-09-23-22-liedown_bed-...</td>\n",
       "      <td>Accelerometer-2011-03-29-09-24-50-getup_bed-f1...</td>\n",
       "      <td>Accelerometer-2011-03-29-09-32-59-use_telephon...</td>\n",
       "      <td>Accelerometer-2011-04-11-13-29-54-brush_teeth-...</td>\n",
       "    </tr>\n",
       "    <tr>\n",
       "      <th>2</th>\n",
       "      <td>Accelerometer-2011-03-23-10-45-51-standup_chai...</td>\n",
       "      <td>Accelerometer-2011-03-24-16-09-29-sitdown_chai...</td>\n",
       "      <td>Accelerometer-2011-03-24-10-57-40-comb_hair-f1...</td>\n",
       "      <td>Accelerometer-2011-03-24-10-58-34-walk-f1.txt</td>\n",
       "      <td>Accelerometer-2011-03-24-11-20-43-descend_stai...</td>\n",
       "      <td>Accelerometer-2011-03-24-10-46-25-drink_glass-...</td>\n",
       "      <td>Accelerometer-2011-03-24-13-30-01-pour_water-f...</td>\n",
       "      <td>Accelerometer-2011-03-29-09-45-46-liedown_bed-...</td>\n",
       "      <td>Accelerometer-2011-03-29-09-49-03-getup_bed-f1...</td>\n",
       "      <td>Accelerometer-2011-03-29-09-52-41-use_telephon...</td>\n",
       "      <td>Accelerometer-2011-05-30-08-35-11-brush_teeth-...</td>\n",
       "    </tr>\n",
       "    <tr>\n",
       "      <th>3</th>\n",
       "      <td>Accelerometer-2011-03-23-10-47-59-standup_chai...</td>\n",
       "      <td>Accelerometer-2011-03-29-09-06-48-sitdown_chai...</td>\n",
       "      <td>Accelerometer-2011-03-24-16-10-36-comb_hair-f2...</td>\n",
       "      <td>Accelerometer-2011-03-24-11-20-24-walk-f1.txt</td>\n",
       "      <td>Accelerometer-2011-03-29-09-15-58-descend_stai...</td>\n",
       "      <td>Accelerometer-2011-03-24-11-14-00-drink_glass-...</td>\n",
       "      <td>Accelerometer-2011-04-05-18-54-14-pour_water-f...</td>\n",
       "      <td>Accelerometer-2011-04-05-18-27-12-liedown_bed-...</td>\n",
       "      <td>Accelerometer-2011-04-05-18-28-21-getup_bed-f1...</td>\n",
       "      <td>Accelerometer-2011-04-05-18-29-19-use_telephon...</td>\n",
       "      <td>Accelerometer-2011-05-30-09-36-50-brush_teeth-...</td>\n",
       "    </tr>\n",
       "    <tr>\n",
       "      <th>4</th>\n",
       "      <td>Accelerometer-2011-03-24-09-49-36-standup_chai...</td>\n",
       "      <td>Accelerometer-2011-03-29-09-12-27-sitdown_chai...</td>\n",
       "      <td>Accelerometer-2011-03-29-08-57-24-comb_hair-f1...</td>\n",
       "      <td>Accelerometer-2011-03-24-11-21-13-walk-f1.txt</td>\n",
       "      <td>Accelerometer-2011-03-29-16-16-34-descend_stai...</td>\n",
       "      <td>Accelerometer-2011-03-24-13-09-29-drink_glass-...</td>\n",
       "      <td>Accelerometer-2011-04-11-12-55-26-pour_water-f...</td>\n",
       "      <td>Accelerometer-2011-04-11-11-52-20-liedown_bed-...</td>\n",
       "      <td>Accelerometer-2011-04-11-11-53-01-getup_bed-f1...</td>\n",
       "      <td>Accelerometer-2011-04-11-11-53-34-use_telephon...</td>\n",
       "      <td>Accelerometer-2011-05-30-10-34-16-brush_teeth-...</td>\n",
       "    </tr>\n",
       "  </tbody>\n",
       "</table>\n",
       "</div>"
      ],
      "text/plain": [
       "                                       standup_chair  \\\n",
       "0  Accelerometer-2011-03-23-10-39-18-standup_chai...   \n",
       "1  Accelerometer-2011-03-23-10-42-01-standup_chai...   \n",
       "2  Accelerometer-2011-03-23-10-45-51-standup_chai...   \n",
       "3  Accelerometer-2011-03-23-10-47-59-standup_chai...   \n",
       "4  Accelerometer-2011-03-24-09-49-36-standup_chai...   \n",
       "\n",
       "                                       sitdown_chair  \\\n",
       "0  Accelerometer-2011-03-24-09-50-16-sitdown_chai...   \n",
       "1  Accelerometer-2011-03-24-10-27-33-sitdown_chai...   \n",
       "2  Accelerometer-2011-03-24-16-09-29-sitdown_chai...   \n",
       "3  Accelerometer-2011-03-29-09-06-48-sitdown_chai...   \n",
       "4  Accelerometer-2011-03-29-09-12-27-sitdown_chai...   \n",
       "\n",
       "                                           comb_hair  \\\n",
       "0  Accelerometer-2011-03-24-09-44-34-comb_hair-f1...   \n",
       "1  Accelerometer-2011-03-24-10-26-33-comb_hair-f1...   \n",
       "2  Accelerometer-2011-03-24-10-57-40-comb_hair-f1...   \n",
       "3  Accelerometer-2011-03-24-16-10-36-comb_hair-f2...   \n",
       "4  Accelerometer-2011-03-29-08-57-24-comb_hair-f1...   \n",
       "\n",
       "                                            walk  \\\n",
       "0  Accelerometer-2011-03-24-09-51-07-walk-f1.txt   \n",
       "1  Accelerometer-2011-03-24-09-52-11-walk-f1.txt   \n",
       "2  Accelerometer-2011-03-24-10-58-34-walk-f1.txt   \n",
       "3  Accelerometer-2011-03-24-11-20-24-walk-f1.txt   \n",
       "4  Accelerometer-2011-03-24-11-21-13-walk-f1.txt   \n",
       "\n",
       "                                      descend_stairs  \\\n",
       "0  Accelerometer-2011-03-24-10-24-02-descend_stai...   \n",
       "1  Accelerometer-2011-03-24-10-25-11-descend_stai...   \n",
       "2  Accelerometer-2011-03-24-11-20-43-descend_stai...   \n",
       "3  Accelerometer-2011-03-29-09-15-58-descend_stai...   \n",
       "4  Accelerometer-2011-03-29-16-16-34-descend_stai...   \n",
       "\n",
       "                                         drink_glass  \\\n",
       "0  Accelerometer-2011-03-24-10-07-02-drink_glass-...   \n",
       "1  Accelerometer-2011-03-24-10-16-02-drink_glass-...   \n",
       "2  Accelerometer-2011-03-24-10-46-25-drink_glass-...   \n",
       "3  Accelerometer-2011-03-24-11-14-00-drink_glass-...   \n",
       "4  Accelerometer-2011-03-24-13-09-29-drink_glass-...   \n",
       "\n",
       "                                          pour_water  \\\n",
       "0  Accelerometer-2011-03-24-10-04-32-pour_water-f...   \n",
       "1  Accelerometer-2011-03-24-10-51-12-pour_water-f...   \n",
       "2  Accelerometer-2011-03-24-13-30-01-pour_water-f...   \n",
       "3  Accelerometer-2011-04-05-18-54-14-pour_water-f...   \n",
       "4  Accelerometer-2011-04-11-12-55-26-pour_water-f...   \n",
       "\n",
       "                                         liedown_bed  \\\n",
       "0  Accelerometer-2011-03-29-09-19-22-liedown_bed-...   \n",
       "1  Accelerometer-2011-03-29-09-23-22-liedown_bed-...   \n",
       "2  Accelerometer-2011-03-29-09-45-46-liedown_bed-...   \n",
       "3  Accelerometer-2011-04-05-18-27-12-liedown_bed-...   \n",
       "4  Accelerometer-2011-04-11-11-52-20-liedown_bed-...   \n",
       "\n",
       "                                           getup_bed  \\\n",
       "0  Accelerometer-2011-03-29-09-21-17-getup_bed-f1...   \n",
       "1  Accelerometer-2011-03-29-09-24-50-getup_bed-f1...   \n",
       "2  Accelerometer-2011-03-29-09-49-03-getup_bed-f1...   \n",
       "3  Accelerometer-2011-04-05-18-28-21-getup_bed-f1...   \n",
       "4  Accelerometer-2011-04-11-11-53-01-getup_bed-f1...   \n",
       "\n",
       "                                       use_telephone  \\\n",
       "0  Accelerometer-2011-03-29-09-30-56-use_telephon...   \n",
       "1  Accelerometer-2011-03-29-09-32-59-use_telephon...   \n",
       "2  Accelerometer-2011-03-29-09-52-41-use_telephon...   \n",
       "3  Accelerometer-2011-04-05-18-29-19-use_telephon...   \n",
       "4  Accelerometer-2011-04-11-11-53-34-use_telephon...   \n",
       "\n",
       "                                         brush_teeth  \n",
       "0  Accelerometer-2011-04-11-13-28-18-brush_teeth-...  \n",
       "1  Accelerometer-2011-04-11-13-29-54-brush_teeth-...  \n",
       "2  Accelerometer-2011-05-30-08-35-11-brush_teeth-...  \n",
       "3  Accelerometer-2011-05-30-09-36-50-brush_teeth-...  \n",
       "4  Accelerometer-2011-05-30-10-34-16-brush_teeth-...  "
      ]
     },
     "execution_count": 10,
     "metadata": {},
     "output_type": "execute_result"
    }
   ],
   "source": [
    "# Based upon previous review during exploratory data analysis, drop the 'eat_meat' & 'eat_soup' activities\n",
    "dataset = dataset.drop(['eat_meat','eat_soup'],axis=1)\n",
    "dataset.head()"
   ]
  },
  {
   "cell_type": "code",
   "execution_count": 16,
   "metadata": {
    "collapsed": false
   },
   "outputs": [],
   "source": [
    "# Create a function that outputs a randomised training and test set of data filenames\n",
    "def genTestList(df,test_per):\n",
    "    # test_per is percentage (0-1) of dataset to be set aside for testing; This percent will be taken from each activity\n",
    "    train_list = pd.DataFrame(columns=[df.columns],dtype=object)\n",
    "    test_list = pd.DataFrame(columns=[df.columns],dtype=object)\n",
    "\n",
    "    for name in df.columns:\n",
    "        num_test = int(df[name].count()*test_per)  # rounds down to whole number, can't have fraction of a dataset\n",
    "        # create a list of random rows to assign to the test set\n",
    "        ran_list = random.sample(xrange(0,(df[name].count())), num_test)\n",
    "        for num in range(0,(df[name].count())):\n",
    "            if num not in ran_list:\n",
    "                train_list.set_value(num,name,df[name][num])\n",
    "            else:\n",
    "                test_list.set_value(num,name,df[name][num])\n",
    "    train_list.reset_index(drop=True,inplace=True)\n",
    "    test_list.reset_index(drop=True,inplace=True)\n",
    "    \n",
    "    return train_list,test_list"
   ]
  },
  {
   "cell_type": "code",
   "execution_count": 17,
   "metadata": {
    "collapsed": true
   },
   "outputs": [],
   "source": [
    "# create a function to re-sort the dataframe so NaNs are at the bottom of each column.  There is no doubt an elegant\n",
    "# way to do this but the first priority is functional programming\n",
    "\n",
    "def sortList(df):\n",
    "    returnList = pd.DataFrame()\n",
    "    sortList = []\n",
    "    for name in df.columns:\n",
    "        for row in df[name]:\n",
    "            if isinstance(row, basestring):\n",
    "                sortList.append(row)\n",
    "        sortList = pd.DataFrame(sortList,columns=[name])\n",
    "        returnList = pd.concat([returnList,sortList],axis=1)\n",
    "        sortList = []\n",
    "        \n",
    "    return returnList"
   ]
  },
  {
   "cell_type": "code",
   "execution_count": 27,
   "metadata": {
    "collapsed": false
   },
   "outputs": [],
   "source": [
    "# Generate list of train and test sets with a test size of 10%.  This test set will be used for final evaluation\n",
    "master_train_list, master_test_list = genTestList(dataset,0.1)\n",
    "\n",
    "# Re-sort the training and testing set so NaNs are at the bottom of each column\n",
    "master_train_list = sortList(master_train_list)\n",
    "master_test_list = sortList(master_test_list)\n",
    "\n",
    "# Take the master_train_list and provide a further train/test split of 80/20 which will be used to build & \n",
    "# cross validate the model\n",
    "train_list, test_list = genTestList(master_train_list,0.2)\n",
    "train_list = sortList(train_list)\n",
    "test_list = sortList(test_list)"
   ]
  },
  {
   "cell_type": "code",
   "execution_count": 29,
   "metadata": {
    "collapsed": false
   },
   "outputs": [
    {
     "data": {
      "text/html": [
       "<div>\n",
       "<table border=\"1\" class=\"dataframe\">\n",
       "  <thead>\n",
       "    <tr style=\"text-align: right;\">\n",
       "      <th></th>\n",
       "      <th>standup_chair</th>\n",
       "      <th>sitdown_chair</th>\n",
       "      <th>comb_hair</th>\n",
       "      <th>walk</th>\n",
       "      <th>descend_stairs</th>\n",
       "      <th>drink_glass</th>\n",
       "      <th>pour_water</th>\n",
       "      <th>liedown_bed</th>\n",
       "      <th>getup_bed</th>\n",
       "      <th>use_telephone</th>\n",
       "      <th>brush_teeth</th>\n",
       "    </tr>\n",
       "  </thead>\n",
       "  <tbody>\n",
       "    <tr>\n",
       "      <th>0</th>\n",
       "      <td>Accelerometer-2011-03-29-09-10-24-standup_chai...</td>\n",
       "      <td>Accelerometer-2011-06-01-14-39-48-sitdown_chai...</td>\n",
       "      <td>Accelerometer-2011-03-29-08-57-24-comb_hair-f1...</td>\n",
       "      <td>Accelerometer-2012-06-11-11-37-01-walk-m1.txt</td>\n",
       "      <td>Accelerometer-2011-06-06-10-59-38-descend_stai...</td>\n",
       "      <td>Accelerometer-2011-05-31-16-35-12-drink_glass-...</td>\n",
       "      <td>Accelerometer-2011-06-06-09-50-17-pour_water-f...</td>\n",
       "      <td>Accelerometer-2011-06-02-17-21-57-liedown_bed-...</td>\n",
       "      <td>Accelerometer-2012-06-12-15-34-01-getup_bed-m4...</td>\n",
       "      <td>Accelerometer-2011-05-30-21-00-40-use_telephon...</td>\n",
       "      <td>Accelerometer-2011-05-31-15-16-47-brush_teeth-...</td>\n",
       "    </tr>\n",
       "    <tr>\n",
       "      <th>1</th>\n",
       "      <td>Accelerometer-2011-05-30-20-50-30-standup_chai...</td>\n",
       "      <td>Accelerometer-2011-12-05-09-48-48-sitdown_chai...</td>\n",
       "      <td>Accelerometer-2011-05-30-09-39-49-comb_hair-f1...</td>\n",
       "      <td>Accelerometer-2012-05-30-22-03-52-walk-m2.txt</td>\n",
       "      <td>Accelerometer-2011-04-05-18-26-06-descend_stai...</td>\n",
       "      <td>Accelerometer-2011-06-01-14-33-59-drink_glass-...</td>\n",
       "      <td>Accelerometer-2012-05-30-18-26-49-pour_water-f...</td>\n",
       "      <td>Accelerometer-2011-05-31-15-18-50-liedown_bed-...</td>\n",
       "      <td>Accelerometer-2012-06-12-15-34-40-getup_bed-m4...</td>\n",
       "      <td>Accelerometer-2011-03-29-09-30-56-use_telephon...</td>\n",
       "      <td>Accelerometer-2011-04-11-13-29-54-brush_teeth-...</td>\n",
       "    </tr>\n",
       "    <tr>\n",
       "      <th>2</th>\n",
       "      <td>Accelerometer-2011-05-30-21-33-37-standup_chai...</td>\n",
       "      <td>Accelerometer-2011-12-11-08-22-36-sitdown_chai...</td>\n",
       "      <td>Accelerometer-2011-05-30-10-36-26-comb_hair-m1...</td>\n",
       "      <td>Accelerometer-2012-06-07-10-52-46-walk-f1.txt</td>\n",
       "      <td>Accelerometer-2011-05-30-09-29-15-descend_stai...</td>\n",
       "      <td>Accelerometer-2011-06-02-17-19-56-drink_glass-...</td>\n",
       "      <td>Accelerometer-2012-06-07-21-32-12-pour_water-f...</td>\n",
       "      <td>Accelerometer-2011-05-30-21-35-19-liedown_bed-...</td>\n",
       "      <td>Accelerometer-2012-06-12-18-44-04-getup_bed-f2...</td>\n",
       "      <td>NaN</td>\n",
       "      <td>NaN</td>\n",
       "    </tr>\n",
       "    <tr>\n",
       "      <th>3</th>\n",
       "      <td>Accelerometer-2011-05-31-16-27-45-standup_chai...</td>\n",
       "      <td>Accelerometer-2012-05-25-18-33-29-sitdown_chai...</td>\n",
       "      <td>Accelerometer-2011-06-02-16-18-54-comb_hair-f1...</td>\n",
       "      <td>Accelerometer-2011-05-31-16-23-32-walk-f1.txt</td>\n",
       "      <td>Accelerometer-2011-03-24-11-20-43-descend_stai...</td>\n",
       "      <td>Accelerometer-2011-06-02-17-20-17-drink_glass-...</td>\n",
       "      <td>Accelerometer-2012-06-09-22-56-17-pour_water-m...</td>\n",
       "      <td>Accelerometer-2011-05-31-16-24-36-liedown_bed-...</td>\n",
       "      <td>Accelerometer-2012-06-20-20-27-19-getup_bed-f5...</td>\n",
       "      <td>NaN</td>\n",
       "      <td>NaN</td>\n",
       "    </tr>\n",
       "    <tr>\n",
       "      <th>4</th>\n",
       "      <td>Accelerometer-2011-06-01-14-41-32-standup_chai...</td>\n",
       "      <td>Accelerometer-2011-05-30-20-49-32-sitdown_chai...</td>\n",
       "      <td>Accelerometer-2011-06-02-17-03-33-comb_hair-f4...</td>\n",
       "      <td>Accelerometer-2011-03-24-11-20-24-walk-f1.txt</td>\n",
       "      <td>Accelerometer-2011-06-02-10-38-52-descend_stai...</td>\n",
       "      <td>Accelerometer-2011-06-02-17-52-26-drink_glass-...</td>\n",
       "      <td>Accelerometer-2012-05-30-18-27-15-pour_water-f...</td>\n",
       "      <td>Accelerometer-2011-05-30-21-59-16-liedown_bed-...</td>\n",
       "      <td>Accelerometer-2011-03-29-09-24-50-getup_bed-f1...</td>\n",
       "      <td>NaN</td>\n",
       "      <td>NaN</td>\n",
       "    </tr>\n",
       "  </tbody>\n",
       "</table>\n",
       "</div>"
      ],
      "text/plain": [
       "                                       standup_chair  \\\n",
       "0  Accelerometer-2011-03-29-09-10-24-standup_chai...   \n",
       "1  Accelerometer-2011-05-30-20-50-30-standup_chai...   \n",
       "2  Accelerometer-2011-05-30-21-33-37-standup_chai...   \n",
       "3  Accelerometer-2011-05-31-16-27-45-standup_chai...   \n",
       "4  Accelerometer-2011-06-01-14-41-32-standup_chai...   \n",
       "\n",
       "                                       sitdown_chair  \\\n",
       "0  Accelerometer-2011-06-01-14-39-48-sitdown_chai...   \n",
       "1  Accelerometer-2011-12-05-09-48-48-sitdown_chai...   \n",
       "2  Accelerometer-2011-12-11-08-22-36-sitdown_chai...   \n",
       "3  Accelerometer-2012-05-25-18-33-29-sitdown_chai...   \n",
       "4  Accelerometer-2011-05-30-20-49-32-sitdown_chai...   \n",
       "\n",
       "                                           comb_hair  \\\n",
       "0  Accelerometer-2011-03-29-08-57-24-comb_hair-f1...   \n",
       "1  Accelerometer-2011-05-30-09-39-49-comb_hair-f1...   \n",
       "2  Accelerometer-2011-05-30-10-36-26-comb_hair-m1...   \n",
       "3  Accelerometer-2011-06-02-16-18-54-comb_hair-f1...   \n",
       "4  Accelerometer-2011-06-02-17-03-33-comb_hair-f4...   \n",
       "\n",
       "                                            walk  \\\n",
       "0  Accelerometer-2012-06-11-11-37-01-walk-m1.txt   \n",
       "1  Accelerometer-2012-05-30-22-03-52-walk-m2.txt   \n",
       "2  Accelerometer-2012-06-07-10-52-46-walk-f1.txt   \n",
       "3  Accelerometer-2011-05-31-16-23-32-walk-f1.txt   \n",
       "4  Accelerometer-2011-03-24-11-20-24-walk-f1.txt   \n",
       "\n",
       "                                      descend_stairs  \\\n",
       "0  Accelerometer-2011-06-06-10-59-38-descend_stai...   \n",
       "1  Accelerometer-2011-04-05-18-26-06-descend_stai...   \n",
       "2  Accelerometer-2011-05-30-09-29-15-descend_stai...   \n",
       "3  Accelerometer-2011-03-24-11-20-43-descend_stai...   \n",
       "4  Accelerometer-2011-06-02-10-38-52-descend_stai...   \n",
       "\n",
       "                                         drink_glass  \\\n",
       "0  Accelerometer-2011-05-31-16-35-12-drink_glass-...   \n",
       "1  Accelerometer-2011-06-01-14-33-59-drink_glass-...   \n",
       "2  Accelerometer-2011-06-02-17-19-56-drink_glass-...   \n",
       "3  Accelerometer-2011-06-02-17-20-17-drink_glass-...   \n",
       "4  Accelerometer-2011-06-02-17-52-26-drink_glass-...   \n",
       "\n",
       "                                          pour_water  \\\n",
       "0  Accelerometer-2011-06-06-09-50-17-pour_water-f...   \n",
       "1  Accelerometer-2012-05-30-18-26-49-pour_water-f...   \n",
       "2  Accelerometer-2012-06-07-21-32-12-pour_water-f...   \n",
       "3  Accelerometer-2012-06-09-22-56-17-pour_water-m...   \n",
       "4  Accelerometer-2012-05-30-18-27-15-pour_water-f...   \n",
       "\n",
       "                                         liedown_bed  \\\n",
       "0  Accelerometer-2011-06-02-17-21-57-liedown_bed-...   \n",
       "1  Accelerometer-2011-05-31-15-18-50-liedown_bed-...   \n",
       "2  Accelerometer-2011-05-30-21-35-19-liedown_bed-...   \n",
       "3  Accelerometer-2011-05-31-16-24-36-liedown_bed-...   \n",
       "4  Accelerometer-2011-05-30-21-59-16-liedown_bed-...   \n",
       "\n",
       "                                           getup_bed  \\\n",
       "0  Accelerometer-2012-06-12-15-34-01-getup_bed-m4...   \n",
       "1  Accelerometer-2012-06-12-15-34-40-getup_bed-m4...   \n",
       "2  Accelerometer-2012-06-12-18-44-04-getup_bed-f2...   \n",
       "3  Accelerometer-2012-06-20-20-27-19-getup_bed-f5...   \n",
       "4  Accelerometer-2011-03-29-09-24-50-getup_bed-f1...   \n",
       "\n",
       "                                       use_telephone  \\\n",
       "0  Accelerometer-2011-05-30-21-00-40-use_telephon...   \n",
       "1  Accelerometer-2011-03-29-09-30-56-use_telephon...   \n",
       "2                                                NaN   \n",
       "3                                                NaN   \n",
       "4                                                NaN   \n",
       "\n",
       "                                         brush_teeth  \n",
       "0  Accelerometer-2011-05-31-15-16-47-brush_teeth-...  \n",
       "1  Accelerometer-2011-04-11-13-29-54-brush_teeth-...  \n",
       "2                                                NaN  \n",
       "3                                                NaN  \n",
       "4                                                NaN  "
      ]
     },
     "execution_count": 29,
     "metadata": {},
     "output_type": "execute_result"
    }
   ],
   "source": [
    "test_list.head()"
   ]
  },
  {
   "cell_type": "code",
   "execution_count": 150,
   "metadata": {
    "collapsed": false
   },
   "outputs": [
    {
     "name": "stdout",
     "output_type": "stream",
     "text": [
      "Full Data Set Count\n",
      "standup_chair     102\n",
      "sitdown_chair     100\n",
      "comb_hair          31\n",
      "walk              100\n",
      "descend_stairs     42\n",
      "drink_glass       100\n",
      "pour_water        100\n",
      "liedown_bed        28\n",
      "getup_bed         101\n",
      "use_telephone      13\n",
      "brush_teeth        12\n",
      "dtype: int64\n",
      "\n",
      "Master Train\n",
      "standup_chair     92\n",
      "sitdown_chair     90\n",
      "comb_hair         28\n",
      "walk              90\n",
      "descend_stairs    38\n",
      "drink_glass       90\n",
      "pour_water        90\n",
      "liedown_bed       26\n",
      "getup_bed         91\n",
      "use_telephone     12\n",
      "brush_teeth       11\n",
      "dtype: int64\n",
      "\n",
      "Master Test\n",
      "standup_chair     10\n",
      "sitdown_chair     10\n",
      "comb_hair          3\n",
      "walk              10\n",
      "descend_stairs     4\n",
      "drink_glass       10\n",
      "pour_water        10\n",
      "liedown_bed        2\n",
      "getup_bed         10\n",
      "use_telephone      1\n",
      "brush_teeth        1\n",
      "dtype: int64\n",
      "\n",
      "Train Set\n",
      "standup_chair     74\n",
      "sitdown_chair     72\n",
      "comb_hair         23\n",
      "walk              72\n",
      "descend_stairs    31\n",
      "drink_glass       72\n",
      "pour_water        72\n",
      "liedown_bed       21\n",
      "getup_bed         73\n",
      "use_telephone     10\n",
      "brush_teeth        9\n",
      "dtype: int64\n",
      "529\n",
      "\n",
      "Test Set\n",
      "standup_chair     18\n",
      "sitdown_chair     18\n",
      "comb_hair          5\n",
      "walk              18\n",
      "descend_stairs     7\n",
      "drink_glass       18\n",
      "pour_water        18\n",
      "liedown_bed        5\n",
      "getup_bed         18\n",
      "use_telephone      2\n",
      "brush_teeth        2\n",
      "dtype: int64\n"
     ]
    }
   ],
   "source": [
    "print \"Full Data Set Count\"\n",
    "print dataset.count()\n",
    "print \"\\nMaster Train\" \n",
    "print master_train_list.count()\n",
    "print \"\\nMaster Test\" \n",
    "print master_test_list.count()\n",
    "print \"\\nTrain Set\" \n",
    "print train_list.count()\n",
    "print train_list.count().sum()\n",
    "print \"\\nTest Set\" \n",
    "print test_list.count()"
   ]
  },
  {
   "cell_type": "code",
   "execution_count": 31,
   "metadata": {
    "collapsed": true
   },
   "outputs": [],
   "source": [
    "# Output a csv file for each file list dataframe so that there is a record of the files used and the analysis could\n",
    "# be repeated with the same dataset without having to generate test & train sets each time.\n",
    "master_train_list.to_csv('Master_Train_List.csv',index = False)\n",
    "master_test_list.to_csv('Master_Test_List.csv',index = False) \n",
    "train_list.to_csv('Train_List.csv',index = False)\n",
    "test_list.to_csv('Test_List.csv',index = False)"
   ]
  },
  {
   "cell_type": "code",
   "execution_count": 32,
   "metadata": {
    "collapsed": true
   },
   "outputs": [],
   "source": [
    "# Define a function that ingests the UCI txt file, and converts each x,y,z stream to 'g' based upon the process\n",
    "# contained in MANUAL.txt\n",
    "\"\"\"\"\n",
    "Acceleration data recorded in the dataset are coded according to the following mapping:\n",
    "\t[0; +63] = [-1.5g; +1.5g]\n",
    "The conversion rule to extract the real acceleration value from the coded value is the following:\n",
    "\treal_val = -1.5g + (coded_val/63)*3g\n",
    "\"\"\"\"\"\n",
    "def convertAccel(filepath):\n",
    "    # open the file\n",
    "    df = pd.read_csv(filepath,sep=' ',names = ['x','y','z'],header=None)\n",
    "    # convert each value using equation\n",
    "    df = df.applymap(lambda x: -1.5 + (x/63.0)*3)\n",
    "    # output the file as filename-converted.txt\n",
    "    return df    "
   ]
  },
  {
   "cell_type": "code",
   "execution_count": 33,
   "metadata": {
    "collapsed": false
   },
   "outputs": [],
   "source": [
    "# function to creates a list of tuples with format \n",
    "# (filename,accelerometer data,activity)\n",
    "\n",
    "def createTuple(filename):\n",
    "    filepath = os.getcwd() + '/Data/' + str(filename)  # create full file path to location of file in Data folder\n",
    "    df = convertAccel(filepath)  # return a 3 column dataframe of the converted x,y,z accelerations\n",
    "    activity = str(filename).split(\"-\")[7]  # extract the activity name from the filename string\n",
    "    output = (filename,(df.x,df.y,df.z),activity)\n",
    "    return output\n",
    "    "
   ]
  },
  {
   "cell_type": "code",
   "execution_count": 34,
   "metadata": {
    "collapsed": false
   },
   "outputs": [],
   "source": [
    "# function that loops through a dataframe of filenames and \n",
    "# returns a list of tuples, one tuple for each filename\n",
    "def createDataList(fileDataframe):\n",
    "    dataList = []  # initialise a new empty list to fill with tuples\n",
    "    for ADL in fileDataframe.columns:  # loop through each activity column\n",
    "        for x in range(0,fileDataframe[ADL].count()): # loop through each filename that is a string (stops at NaN)\n",
    "            summary = createTuple(fileDataframe[ADL][x])  # create the filename summary tuple\n",
    "            dataList.append(summary)\n",
    "    return dataList"
   ]
  },
  {
   "cell_type": "code",
   "execution_count": 37,
   "metadata": {
    "collapsed": false
   },
   "outputs": [],
   "source": [
    "finalTestList = createDataList(master_test_list)\n",
    "trainList = createDataList(train_list)\n",
    "testList = createDataList(test_list) "
   ]
  },
  {
   "cell_type": "code",
   "execution_count": 40,
   "metadata": {
    "collapsed": true
   },
   "outputs": [],
   "source": [
    "def rms(x):   # function to calculate the root mean square\n",
    "    return np.sqrt(x.dot(x)/x.size) "
   ]
  },
  {
   "cell_type": "code",
   "execution_count": 90,
   "metadata": {
    "collapsed": true
   },
   "outputs": [],
   "source": [
    "# function to create all the model features; loop through each tuple in list\n",
    "\n",
    "def createFeatures(activityTuple):\n",
    "    \n",
    "    features = pd.DataFrame(index = range(0,len(activityTuple)),columns = ['x_max','y_max','z_max','tot_max','x_min',\\\n",
    "                                                                           'y_min','z_min','tot_min','x_mean','y_mean'\\\n",
    "                                                                           ,'z_mean','tot_mean','x_rms','y_rms','z_rms'\\\n",
    "                                                                           ,'tot_rms','totTime','activity'])\n",
    "    for row in range(0,len(activityTuple)):\n",
    "        x,y,z = activityTuple[row][1]\n",
    "        activity = activityTuple[row][2]\n",
    "        totAccel = (x**2 + y**2 + z**2)**0.5\n",
    "        features['x_max'][row] = float(np.max(x))\n",
    "        features['y_max'][row] = np.max(y)\n",
    "        features['z_max'][row] = np.max(z)\n",
    "        features['tot_max'][row] = np.max(totAccel)\n",
    "        features['x_min'][row] = np.min(x)\n",
    "        features['y_min'][row] = np.min(y)\n",
    "        features['z_min'][row] = np.min(z)\n",
    "        features['tot_min'][row] = np.min(totAccel)\n",
    "        features['x_mean'][row] = np.mean(x)\n",
    "        features['y_mean'][row] = np.mean(y)\n",
    "        features['z_mean'][row] = np.mean(z)\n",
    "        features['tot_mean'][row] = np.mean(totAccel)\n",
    "        features['x_rms'][row] = rms(x)\n",
    "        features['y_rms'][row] = rms(y)\n",
    "        features['z_rms'][row] = rms(z)\n",
    "        features['tot_rms'][row] = rms(totAccel)\n",
    "        features['totTime'][row] = len(x)*(1/32.0)  # The activity length in seconds is no. samples * 1/sampling rate\n",
    "        features['activity'][row] = str(activity)\n",
    "        \n",
    "    return features"
   ]
  },
  {
   "cell_type": "code",
   "execution_count": 151,
   "metadata": {
    "collapsed": false
   },
   "outputs": [],
   "source": [
    "finalTestFeaturesDF = createFeatures(finalTestList)\n",
    "trainFeaturesDF = createFeatures(trainList)\n",
    "testFeaturesDF = createFeatures(testList)"
   ]
  },
  {
   "cell_type": "code",
   "execution_count": 153,
   "metadata": {
    "collapsed": false
   },
   "outputs": [],
   "source": [
    "# The features dataframe has been initialised as all objects whereas all\n",
    "# columns other than activity should be float.  Convert to correct data type\n",
    "# so can create plots in exploratory analysis\n",
    "col_names = finalTestFeaturesDF.columns\n",
    "col_names = col_names[0:(len(col_names)-1)]  # drop activity from col_names\n",
    "finalTestFeaturesDF[col_names] = finalTestFeaturesDF[col_names].astype(float)\n",
    "finalTestFeaturesDF.activity = finalTestFeaturesDF.activity.astype(str)\n",
    "trainFeaturesDF[col_names] = trainFeaturesDF[col_names].astype(float)\n",
    "trainFeaturesDF.activity = trainFeaturesDF.activity.astype(str)\n",
    "testFeaturesDF[col_names] = testFeaturesDF[col_names].astype(float)\n",
    "testFeaturesDF.activity = testFeaturesDF.activity.astype(str)"
   ]
  },
  {
   "cell_type": "code",
   "execution_count": 154,
   "metadata": {
    "collapsed": true
   },
   "outputs": [],
   "source": [
    "def pre_proc(df):\n",
    "    # Create dummy variables for all non-numerical columns\n",
    "    # Get dummy variables for Activity\n",
    "    df = df.join(pd.get_dummies(df['activity'], prefix='is'))\n",
    "    # Remove Sex column\n",
    "    df = df.drop(['activity'], axis=1)\n",
    "    return df"
   ]
  },
  {
   "cell_type": "code",
   "execution_count": 155,
   "metadata": {
    "collapsed": false
   },
   "outputs": [],
   "source": [
    "trainFeaturesDF = pre_proc(trainFeaturesDF)\n",
    "testFeaturesDF = pre_proc(testFeaturesDF)"
   ]
  },
  {
   "cell_type": "code",
   "execution_count": 72,
   "metadata": {
    "collapsed": false
   },
   "outputs": [],
   "source": [
    "# Set target variable name\n",
    "target = []\n",
    "for feature in trainFeaturesDF.columns:\n",
    "    if 'is_' in feature:\n",
    "        target.append(feature)\n",
    "\n",
    "# Set X and y\n",
    "X_train = trainFeaturesDF.drop(target, axis=1)\n",
    "y_train = trainFeaturesDF[target]\n",
    "X_test = testFeaturesDF.drop(target, axis=1)\n",
    "y_test = testFeaturesDF[target]"
   ]
  },
  {
   "cell_type": "markdown",
   "metadata": {},
   "source": [
    "Create a logistic regression model for 'is_walk' classifier and assess it's accuracy"
   ]
  },
  {
   "cell_type": "code",
   "execution_count": 71,
   "metadata": {
    "collapsed": false
   },
   "outputs": [
    {
     "data": {
      "text/plain": [
       "LogisticRegression(C=1.0, class_weight=None, dual=False, fit_intercept=True,\n",
       "          intercept_scaling=1, max_iter=100, multi_class='ovr', n_jobs=1,\n",
       "          penalty='l2', random_state=None, solver='liblinear', tol=0.0001,\n",
       "          verbose=0, warm_start=False)"
      ]
     },
     "execution_count": 71,
     "metadata": {},
     "output_type": "execute_result"
    }
   ],
   "source": [
    "# Instantiate logistic regression classifier using default params\n",
    "lm = linear_model.LogisticRegression()\n",
    "\n",
    "# Train logistic regression classifier on training set\n",
    "lm.fit(X_train, y_train['is_walk'])"
   ]
  },
  {
   "cell_type": "code",
   "execution_count": 73,
   "metadata": {
    "collapsed": false
   },
   "outputs": [
    {
     "name": "stdout",
     "output_type": "stream",
     "text": [
      "Accuracy: 0.961\n"
     ]
    }
   ],
   "source": [
    "# Check model accuracy on test set\n",
    "print \"Accuracy: %0.3f\" % lm.score(X_test, y_test['is_walk'])"
   ]
  },
  {
   "cell_type": "code",
   "execution_count": 75,
   "metadata": {
    "collapsed": false
   },
   "outputs": [
    {
     "data": {
      "image/png": "[encoded data removed]",
      "text/plain": [
       "<matplotlib.figure.Figure at 0x11da557d0>"
      ]
     },
     "metadata": {},
     "output_type": "display_data"
    },
    {
     "name": "stdout",
     "output_type": "stream",
     "text": [
      "Confusion Matrix:\n",
      "[[111   0]\n",
      " [  5  13]]\n"
     ]
    }
   ],
   "source": [
    "# Get confusion matrix on test set\n",
    "y_pred = lm.predict(X_test)\n",
    "cm = metrics.confusion_matrix(y_test['is_walk'], y_pred)\n",
    "cm_normalized = cm.astype('float') / cm.sum(axis=1)[:, np.newaxis]\n",
    "\n",
    "ax = plt.axes()\n",
    "sns.heatmap(cm_normalized, annot=True)\n",
    "ax.set_ylabel('True')\n",
    "ax.set_xlabel('Pred')\n",
    "plt.show()\n",
    "\n",
    "print \"Confusion Matrix:\"\n",
    "print cm"
   ]
  },
  {
   "cell_type": "code",
   "execution_count": 77,
   "metadata": {
    "collapsed": false
   },
   "outputs": [
    {
     "data": {
      "image/png": "[encoded data removed]",
      "text/plain": [
       "<matplotlib.figure.Figure at 0x11dd8e990>"
      ]
     },
     "metadata": {},
     "output_type": "display_data"
    },
    {
     "name": "stdout",
     "output_type": "stream",
     "text": [
      "ROC AUC: 0.986\n"
     ]
    }
   ],
   "source": [
    "# Plot ROC curve and get AUC score\n",
    "y_pred_proba = lm.predict_proba(X_test)[:,1]\n",
    "\n",
    "# Determine the false positive and true positive rates\n",
    "fpr, tpr, t = metrics.roc_curve(y_test['is_walk'], y_pred_proba)\n",
    "\n",
    " \n",
    "# Plot of a ROC curve for a specific class\n",
    "plt.figure()\n",
    "plt.plot(fpr, tpr)\n",
    "plt.xlabel(\"False Positive Rate\")\n",
    "plt.ylabel(\"True Positive Rate\")\n",
    "plt.title(\"ROC Curve\")\n",
    "plt.show()\n",
    "\n",
    "# Get ROC AUC score\n",
    "print 'ROC AUC: %0.3f' % metrics.roc_auc_score(y_test['is_walk'], y_pred_proba)"
   ]
  },
  {
   "cell_type": "markdown",
   "metadata": {},
   "source": [
    "Create a logistic regression model for 'is_brush_teeth' classifier and assess it's accuracy"
   ]
  },
  {
   "cell_type": "code",
   "execution_count": 78,
   "metadata": {
    "collapsed": false
   },
   "outputs": [
    {
     "data": {
      "text/plain": [
       "LogisticRegression(C=1.0, class_weight=None, dual=False, fit_intercept=True,\n",
       "          intercept_scaling=1, max_iter=100, multi_class='ovr', n_jobs=1,\n",
       "          penalty='l2', random_state=None, solver='liblinear', tol=0.0001,\n",
       "          verbose=0, warm_start=False)"
      ]
     },
     "execution_count": 78,
     "metadata": {},
     "output_type": "execute_result"
    }
   ],
   "source": [
    "# Instantiate logistic regression classifier using default params\n",
    "lm = linear_model.LogisticRegression()\n",
    "\n",
    "# Train logistic regression classifier on training set\n",
    "lm.fit(X_train, y_train['is_brush_teeth'])"
   ]
  },
  {
   "cell_type": "code",
   "execution_count": 79,
   "metadata": {
    "collapsed": false
   },
   "outputs": [
    {
     "name": "stdout",
     "output_type": "stream",
     "text": [
      "Accuracy: 0.992\n"
     ]
    }
   ],
   "source": [
    "# Check model accuracy on test set\n",
    "print \"Accuracy: %0.3f\" % lm.score(X_test, y_test['is_brush_teeth'])"
   ]
  },
  {
   "cell_type": "code",
   "execution_count": 80,
   "metadata": {
    "collapsed": false
   },
   "outputs": [
    {
     "data": {
      "image/png": "[encoded data removed]",
      "text/plain": [
       "<matplotlib.figure.Figure at 0x11ddb76d0>"
      ]
     },
     "metadata": {},
     "output_type": "display_data"
    },
    {
     "name": "stdout",
     "output_type": "stream",
     "text": [
      "Confusion Matrix:\n",
      "[[127   0]\n",
      " [  1   1]]\n"
     ]
    }
   ],
   "source": [
    "# Get confusion matrix on test set\n",
    "y_pred = lm.predict(X_test)\n",
    "cm = metrics.confusion_matrix(y_test['is_brush_teeth'], y_pred)\n",
    "cm_normalized = cm.astype('float') / cm.sum(axis=1)[:, np.newaxis]\n",
    "\n",
    "ax = plt.axes()\n",
    "sns.heatmap(cm_normalized, annot=True)\n",
    "ax.set_ylabel('True')\n",
    "ax.set_xlabel('Pred')\n",
    "plt.show()\n",
    "\n",
    "print \"Confusion Matrix:\"\n",
    "print cm"
   ]
  },
  {
   "cell_type": "code",
   "execution_count": 81,
   "metadata": {
    "collapsed": false
   },
   "outputs": [
    {
     "data": {
      "image/png": "[encoded data removed]",
      "text/plain": [
       "<matplotlib.figure.Figure at 0x11df154d0>"
      ]
     },
     "metadata": {},
     "output_type": "display_data"
    },
    {
     "name": "stdout",
     "output_type": "stream",
     "text": [
      "ROC AUC: 0.996\n"
     ]
    }
   ],
   "source": [
    "# Plot ROC curve and get AUC score\n",
    "y_pred_proba = lm.predict_proba(X_test)[:,1]\n",
    "\n",
    "# Determine the false positive and true positive rates\n",
    "fpr, tpr, t = metrics.roc_curve(y_test['is_brush_teeth'], y_pred_proba)\n",
    "\n",
    " \n",
    "# Plot of a ROC curve for a specific class\n",
    "plt.figure()\n",
    "plt.plot(fpr, tpr)\n",
    "plt.xlabel(\"False Positive Rate\")\n",
    "plt.ylabel(\"True Positive Rate\")\n",
    "plt.title(\"ROC Curve\")\n",
    "plt.show()\n",
    "\n",
    "# Get ROC AUC score\n",
    "print 'ROC AUC: %0.3f' % metrics.roc_auc_score(y_test['is_brush_teeth'], y_pred_proba)"
   ]
  },
  {
   "cell_type": "markdown",
   "metadata": {},
   "source": [
    "Create a logistic regression model for 'is_getup_bed' classifier and assess it's accuracy"
   ]
  },
  {
   "cell_type": "code",
   "execution_count": 82,
   "metadata": {
    "collapsed": false
   },
   "outputs": [
    {
     "data": {
      "text/plain": [
       "LogisticRegression(C=1.0, class_weight=None, dual=False, fit_intercept=True,\n",
       "          intercept_scaling=1, max_iter=100, multi_class='ovr', n_jobs=1,\n",
       "          penalty='l2', random_state=None, solver='liblinear', tol=0.0001,\n",
       "          verbose=0, warm_start=False)"
      ]
     },
     "execution_count": 82,
     "metadata": {},
     "output_type": "execute_result"
    }
   ],
   "source": [
    "# Instantiate logistic regression classifier using default params\n",
    "lm = linear_model.LogisticRegression()\n",
    "\n",
    "# Train logistic regression classifier on training set\n",
    "lm.fit(X_train, y_train['is_getup_bed'])"
   ]
  },
  {
   "cell_type": "code",
   "execution_count": 83,
   "metadata": {
    "collapsed": false
   },
   "outputs": [
    {
     "name": "stdout",
     "output_type": "stream",
     "text": [
      "Accuracy: 0.860\n"
     ]
    }
   ],
   "source": [
    "# Check model accuracy on test set\n",
    "print \"Accuracy: %0.3f\" % lm.score(X_test, y_test['is_getup_bed'])"
   ]
  },
  {
   "cell_type": "code",
   "execution_count": 84,
   "metadata": {
    "collapsed": false
   },
   "outputs": [
    {
     "data": {
      "image/png": "[encoded data removed]",
      "text/plain": [
       "<matplotlib.figure.Figure at 0x11e2396d0>"
      ]
     },
     "metadata": {},
     "output_type": "display_data"
    },
    {
     "name": "stdout",
     "output_type": "stream",
     "text": [
      "Confusion Matrix:\n",
      "[[107   4]\n",
      " [ 14   4]]\n"
     ]
    }
   ],
   "source": [
    "# Get confusion matrix on test set\n",
    "y_pred = lm.predict(X_test)\n",
    "cm = metrics.confusion_matrix(y_test['is_getup_bed'], y_pred)\n",
    "cm_normalized = cm.astype('float') / cm.sum(axis=1)[:, np.newaxis]\n",
    "\n",
    "ax = plt.axes()\n",
    "sns.heatmap(cm_normalized, annot=True)\n",
    "ax.set_ylabel('True')\n",
    "ax.set_xlabel('Pred')\n",
    "plt.show()\n",
    "\n",
    "print \"Confusion Matrix:\"\n",
    "print cm"
   ]
  },
  {
   "cell_type": "code",
   "execution_count": 85,
   "metadata": {
    "collapsed": false
   },
   "outputs": [
    {
     "data": {
      "image/png": "[encoded data removed]",
      "text/plain": [
       "<matplotlib.figure.Figure at 0x11e1cd350>"
      ]
     },
     "metadata": {},
     "output_type": "display_data"
    },
    {
     "name": "stdout",
     "output_type": "stream",
     "text": [
      "ROC AUC: 0.875\n"
     ]
    }
   ],
   "source": [
    "# Plot ROC curve and get AUC score\n",
    "y_pred_proba = lm.predict_proba(X_test)[:,1]\n",
    "\n",
    "# Determine the false positive and true positive rates\n",
    "fpr, tpr, t = metrics.roc_curve(y_test['is_getup_bed'], y_pred_proba)\n",
    "\n",
    " \n",
    "# Plot of a ROC curve for a specific class\n",
    "plt.figure()\n",
    "plt.plot(fpr, tpr)\n",
    "plt.xlabel(\"False Positive Rate\")\n",
    "plt.ylabel(\"True Positive Rate\")\n",
    "plt.title(\"ROC Curve\")\n",
    "plt.show()\n",
    "\n",
    "# Get ROC AUC score\n",
    "print 'ROC AUC: %0.3f' % metrics.roc_auc_score(y_test['is_getup_bed'], y_pred_proba)"
   ]
  },
  {
   "cell_type": "markdown",
   "metadata": {},
   "source": [
    "Create a logistic regression model for 'is_use_telephone' classifier and assess it's accuracy"
   ]
  },
  {
   "cell_type": "code",
   "execution_count": 86,
   "metadata": {
    "collapsed": false
   },
   "outputs": [
    {
     "data": {
      "text/plain": [
       "LogisticRegression(C=1.0, class_weight=None, dual=False, fit_intercept=True,\n",
       "          intercept_scaling=1, max_iter=100, multi_class='ovr', n_jobs=1,\n",
       "          penalty='l2', random_state=None, solver='liblinear', tol=0.0001,\n",
       "          verbose=0, warm_start=False)"
      ]
     },
     "execution_count": 86,
     "metadata": {},
     "output_type": "execute_result"
    }
   ],
   "source": [
    "# Instantiate logistic regression classifier using default params\n",
    "lm = linear_model.LogisticRegression()\n",
    "\n",
    "# Train logistic regression classifier on training set\n",
    "lm.fit(X_train, y_train['is_use_telephone'])"
   ]
  },
  {
   "cell_type": "code",
   "execution_count": 87,
   "metadata": {
    "collapsed": false
   },
   "outputs": [
    {
     "name": "stdout",
     "output_type": "stream",
     "text": [
      "Accuracy: 0.984\n"
     ]
    }
   ],
   "source": [
    "# Check model accuracy on test set\n",
    "print \"Accuracy: %0.3f\" % lm.score(X_test, y_test['is_use_telephone'])"
   ]
  },
  {
   "cell_type": "code",
   "execution_count": 88,
   "metadata": {
    "collapsed": false
   },
   "outputs": [
    {
     "data": {
      "image/png": "[encoded data removed]",
      "text/plain": [
       "<matplotlib.figure.Figure at 0x11e179750>"
      ]
     },
     "metadata": {},
     "output_type": "display_data"
    },
    {
     "name": "stdout",
     "output_type": "stream",
     "text": [
      "Confusion Matrix:\n",
      "[[127   0]\n",
      " [  2   0]]\n"
     ]
    }
   ],
   "source": [
    "# Get confusion matrix on test set\n",
    "y_pred = lm.predict(X_test)\n",
    "cm = metrics.confusion_matrix(y_test['is_use_telephone'], y_pred)\n",
    "cm_normalized = cm.astype('float') / cm.sum(axis=1)[:, np.newaxis]\n",
    "\n",
    "ax = plt.axes()\n",
    "sns.heatmap(cm_normalized, annot=True)\n",
    "ax.set_ylabel('True')\n",
    "ax.set_xlabel('Pred')\n",
    "plt.show()\n",
    "\n",
    "print \"Confusion Matrix:\"\n",
    "print cm"
   ]
  },
  {
   "cell_type": "code",
   "execution_count": 89,
   "metadata": {
    "collapsed": false
   },
   "outputs": [
    {
     "data": {
      "image/png": "[encoded data removed]",
      "text/plain": [
       "<matplotlib.figure.Figure at 0x11df07210>"
      ]
     },
     "metadata": {},
     "output_type": "display_data"
    },
    {
     "name": "stdout",
     "output_type": "stream",
     "text": [
      "ROC AUC: 0.980\n"
     ]
    }
   ],
   "source": [
    "# Plot ROC curve and get AUC score\n",
    "y_pred_proba = lm.predict_proba(X_test)[:,1]\n",
    "\n",
    "# Determine the false positive and true positive rates\n",
    "fpr, tpr, t = metrics.roc_curve(y_test['is_use_telephone'], y_pred_proba)\n",
    "\n",
    " \n",
    "# Plot of a ROC curve for a specific class\n",
    "plt.figure()\n",
    "plt.plot(fpr, tpr)\n",
    "plt.xlabel(\"False Positive Rate\")\n",
    "plt.ylabel(\"True Positive Rate\")\n",
    "plt.title(\"ROC Curve\")\n",
    "plt.show()\n",
    "\n",
    "# Get ROC AUC score\n",
    "print 'ROC AUC: %0.3f' % metrics.roc_auc_score(y_test['is_use_telephone'], y_pred_proba)"
   ]
  },
  {
   "cell_type": "markdown",
   "metadata": {},
   "source": [
    "Whilst initially looking only at accuracy, these results look extremely good (a little too good!), a review of the confusion matrix highlights a problem that was known with simply processing the entire dataset.  Namely, the percent of the dataset that is \"True\" for each model in most instances is small when compared to the total set size.  This can be most clearly seen when looking at the confusion matrix for 'is_use_telephone' where the \"True\" set was 1.8% of total set.  The logistics regression model therefore decided that it'll get the highest success rate if it just predicts that all values are False (would only be wrong 1.8% of time).  This obviously is not what is wanted so the training set will need to be balanced.  We'll do this by making the 'True' set 50% of the training set by randomly sampling the same amount of 'False' rows from the training set.  The model will then be built from this training data.  We don't need to do this with the test set."
   ]
  },
  {
   "cell_type": "code",
   "execution_count": 156,
   "metadata": {
    "collapsed": false
   },
   "outputs": [],
   "source": [
    "def balanceData(df,activity):\n",
    "    output = pd.DataFrame(columns=[df.columns])\n",
    "    size = len(df[df[activity]==1])\n",
    "    rem = len(df)-size\n",
    "    ran_list = random.sample(xrange(0,rem),size)\n",
    "    for num in range(0,rem):\n",
    "        if num in ran_list:\n",
    "            output = output.append(df.iloc[num])\n",
    "    output = output.append(df[df[activity]==1])\n",
    "    return output\n"
   ]
  },
  {
   "cell_type": "code",
   "execution_count": null,
   "metadata": {
    "collapsed": true
   },
   "outputs": [],
   "source": [
    "trainDF = balanceData(trainFeaturesDF,'is_walk')"
   ]
  },
  {
   "cell_type": "code",
   "execution_count": 158,
   "metadata": {
    "collapsed": false
   },
   "outputs": [],
   "source": [
    "# Set target variable name\n",
    "target = []\n",
    "for feature in trainDF.columns:\n",
    "    if 'is_' in feature:\n",
    "        target.append(feature)\n",
    "\n",
    "# Set X and y\n",
    "X_train = trainDF.drop(target, axis=1)\n",
    "y_train = trainDF[target]\n",
    "X_test = testFeaturesDF.drop(target, axis=1)\n",
    "y_test = testFeaturesDF[target]"
   ]
  },
  {
   "cell_type": "markdown",
   "metadata": {},
   "source": [
    "Create a new logistic regression model for 'is_walk' classifier and assess it's accuracy with a balanced training set"
   ]
  },
  {
   "cell_type": "code",
   "execution_count": 159,
   "metadata": {
    "collapsed": false
   },
   "outputs": [
    {
     "data": {
      "text/plain": [
       "LogisticRegression(C=1.0, class_weight=None, dual=False, fit_intercept=True,\n",
       "          intercept_scaling=1, max_iter=100, multi_class='ovr', n_jobs=1,\n",
       "          penalty='l2', random_state=None, solver='liblinear', tol=0.0001,\n",
       "          verbose=0, warm_start=False)"
      ]
     },
     "execution_count": 159,
     "metadata": {},
     "output_type": "execute_result"
    }
   ],
   "source": [
    "# Instantiate logistic regression classifier using default params\n",
    "lm = linear_model.LogisticRegression()\n",
    "\n",
    "# Train logistic regression classifier on training set\n",
    "lm.fit(X_train, y_train['is_walk'])"
   ]
  },
  {
   "cell_type": "code",
   "execution_count": 160,
   "metadata": {
    "collapsed": false
   },
   "outputs": [
    {
     "name": "stdout",
     "output_type": "stream",
     "text": [
      "Accuracy: 0.930\n"
     ]
    }
   ],
   "source": [
    "# Check model accuracy on test set\n",
    "print \"Accuracy: %0.3f\" % lm.score(X_test, y_test['is_walk'])"
   ]
  },
  {
   "cell_type": "markdown",
   "metadata": {},
   "source": [
    "We see that with the balanced set the accuracy has dropped a little from 0.961.  The result however is still quite good for such a simplistic set of features."
   ]
  },
  {
   "cell_type": "code",
   "execution_count": 161,
   "metadata": {
    "collapsed": false
   },
   "outputs": [
    {
     "data": {
      "image/png": "[encoded data removed]",
      "text/plain": [
       "<matplotlib.figure.Figure at 0x11df9de50>"
      ]
     },
     "metadata": {},
     "output_type": "display_data"
    },
    {
     "name": "stdout",
     "output_type": "stream",
     "text": [
      "Confusion Matrix:\n",
      "[[105   6]\n",
      " [  3  15]]\n"
     ]
    }
   ],
   "source": [
    "# Get confusion matrix on test set\n",
    "y_pred = lm.predict(X_test)\n",
    "cm = metrics.confusion_matrix(y_test['is_walk'], y_pred)\n",
    "cm_normalized = cm.astype('float') / cm.sum(axis=1)[:, np.newaxis]\n",
    "\n",
    "ax = plt.axes()\n",
    "sns.heatmap(cm_normalized, annot=True)\n",
    "ax.set_ylabel('True')\n",
    "ax.set_xlabel('Pred')\n",
    "plt.show()\n",
    "\n",
    "print \"Confusion Matrix:\"\n",
    "print cm"
   ]
  },
  {
   "cell_type": "code",
   "execution_count": 162,
   "metadata": {
    "collapsed": false
   },
   "outputs": [
    {
     "data": {
      "image/png": "[encoded data removed]",
      "text/plain": [
       "<matplotlib.figure.Figure at 0x11e1be290>"
      ]
     },
     "metadata": {},
     "output_type": "display_data"
    },
    {
     "name": "stdout",
     "output_type": "stream",
     "text": [
      "ROC AUC: 0.932\n"
     ]
    }
   ],
   "source": [
    "# Plot ROC curve and get AUC score\n",
    "y_pred_proba = lm.predict_proba(X_test)[:,1]\n",
    "\n",
    "# Determine the false positive and true positive rates\n",
    "fpr, tpr, t = metrics.roc_curve(y_test['is_walk'], y_pred_proba)\n",
    "\n",
    " \n",
    "# Plot of a ROC curve for a specific class\n",
    "plt.figure()\n",
    "plt.plot(fpr, tpr)\n",
    "plt.xlabel(\"False Positive Rate\")\n",
    "plt.ylabel(\"True Positive Rate\")\n",
    "plt.title(\"ROC Curve\")\n",
    "plt.show()\n",
    "\n",
    "# Get ROC AUC score\n",
    "print 'ROC AUC: %0.3f' % metrics.roc_auc_score(y_test['is_walk'], y_pred_proba)"
   ]
  },
  {
   "cell_type": "code",
   "execution_count": 163,
   "metadata": {
    "collapsed": true
   },
   "outputs": [],
   "source": [
    "trainDF = balanceData(trainFeaturesDF,'is_use_telephone')"
   ]
  },
  {
   "cell_type": "code",
   "execution_count": 164,
   "metadata": {
    "collapsed": false
   },
   "outputs": [],
   "source": [
    "# Set target variable name\n",
    "target = []\n",
    "for feature in trainDF.columns:\n",
    "    if 'is_' in feature:\n",
    "        target.append(feature)\n",
    "\n",
    "# Set X and y\n",
    "X_train = trainDF.drop(target, axis=1)\n",
    "y_train = trainDF[target]\n",
    "X_test = testFeaturesDF.drop(target, axis=1)\n",
    "y_test = testFeaturesDF[target]"
   ]
  },
  {
   "cell_type": "markdown",
   "metadata": {},
   "source": [
    "Create a logistic regression model for 'is_use_telephone' classifier and assess it's accuracy"
   ]
  },
  {
   "cell_type": "code",
   "execution_count": 165,
   "metadata": {
    "collapsed": false
   },
   "outputs": [
    {
     "data": {
      "text/plain": [
       "LogisticRegression(C=1.0, class_weight=None, dual=False, fit_intercept=True,\n",
       "          intercept_scaling=1, max_iter=100, multi_class='ovr', n_jobs=1,\n",
       "          penalty='l2', random_state=None, solver='liblinear', tol=0.0001,\n",
       "          verbose=0, warm_start=False)"
      ]
     },
     "execution_count": 165,
     "metadata": {},
     "output_type": "execute_result"
    }
   ],
   "source": [
    "# Instantiate logistic regression classifier using default params\n",
    "lm = linear_model.LogisticRegression()\n",
    "\n",
    "# Train logistic regression classifier on training set\n",
    "lm.fit(X_train, y_train['is_use_telephone'])"
   ]
  },
  {
   "cell_type": "code",
   "execution_count": 166,
   "metadata": {
    "collapsed": false
   },
   "outputs": [
    {
     "name": "stdout",
     "output_type": "stream",
     "text": [
      "Accuracy: 0.953\n"
     ]
    }
   ],
   "source": [
    "# Check model accuracy on test set\n",
    "print \"Accuracy: %0.3f\" % lm.score(X_test, y_test['is_use_telephone'])"
   ]
  },
  {
   "cell_type": "code",
   "execution_count": 167,
   "metadata": {
    "collapsed": false
   },
   "outputs": [
    {
     "data": {
      "image/png": "[encoded data removed]",
      "text/plain": [
       "<matplotlib.figure.Figure at 0x11dc3d850>"
      ]
     },
     "metadata": {},
     "output_type": "display_data"
    },
    {
     "name": "stdout",
     "output_type": "stream",
     "text": [
      "Confusion Matrix:\n",
      "[[121   6]\n",
      " [  0   2]]\n"
     ]
    }
   ],
   "source": [
    "# Get confusion matrix on test set\n",
    "y_pred = lm.predict(X_test)\n",
    "cm = metrics.confusion_matrix(y_test['is_use_telephone'], y_pred)\n",
    "cm_normalized = cm.astype('float') / cm.sum(axis=1)[:, np.newaxis]\n",
    "\n",
    "ax = plt.axes()\n",
    "sns.heatmap(cm_normalized, annot=True)\n",
    "ax.set_ylabel('True')\n",
    "ax.set_xlabel('Pred')\n",
    "plt.show()\n",
    "\n",
    "print \"Confusion Matrix:\"\n",
    "print cm"
   ]
  },
  {
   "cell_type": "code",
   "execution_count": 168,
   "metadata": {
    "collapsed": false
   },
   "outputs": [
    {
     "data": {
      "image/png": "[encoded data removed]",
      "text/plain": [
       "<matplotlib.figure.Figure at 0x11e459110>"
      ]
     },
     "metadata": {},
     "output_type": "display_data"
    },
    {
     "name": "stdout",
     "output_type": "stream",
     "text": [
      "ROC AUC: 0.965\n"
     ]
    }
   ],
   "source": [
    "# Plot ROC curve and get AUC score\n",
    "y_pred_proba = lm.predict_proba(X_test)[:,1]\n",
    "\n",
    "# Determine the false positive and true positive rates\n",
    "fpr, tpr, t = metrics.roc_curve(y_test['is_use_telephone'], y_pred_proba)\n",
    "\n",
    " \n",
    "# Plot of a ROC curve for a specific class\n",
    "plt.figure()\n",
    "plt.plot(fpr, tpr)\n",
    "plt.xlabel(\"False Positive Rate\")\n",
    "plt.ylabel(\"True Positive Rate\")\n",
    "plt.title(\"ROC Curve\")\n",
    "plt.show()\n",
    "\n",
    "# Get ROC AUC score\n",
    "print 'ROC AUC: %0.3f' % metrics.roc_auc_score(y_test['is_use_telephone'], y_pred_proba)"
   ]
  },
  {
   "cell_type": "markdown",
   "metadata": {},
   "source": [
    "Create a Random Forest model for 'is_walk'"
   ]
  },
  {
   "cell_type": "code",
   "execution_count": 191,
   "metadata": {
    "collapsed": true
   },
   "outputs": [],
   "source": [
    "# Set target variable name\n",
    "target = []\n",
    "for feature in trainDF.columns:\n",
    "    if 'is_' in feature:\n",
    "        target.append(feature)\n",
    "\n",
    "# Set X and y\n",
    "X_train = trainFeaturesDF.drop(target, axis=1)\n",
    "y_train = trainFeaturesDF[target]\n",
    "X_test = testFeaturesDF.drop(target, axis=1)\n",
    "y_test = testFeaturesDF[target]"
   ]
  },
  {
   "cell_type": "code",
   "execution_count": 192,
   "metadata": {
    "collapsed": false
   },
   "outputs": [
    {
     "data": {
      "text/plain": [
       "RandomForestClassifier(bootstrap=True, class_weight=None, criterion='gini',\n",
       "            max_depth=None, max_features='auto', max_leaf_nodes=None,\n",
       "            min_samples_leaf=1, min_samples_split=2,\n",
       "            min_weight_fraction_leaf=0.0, n_estimators=20, n_jobs=1,\n",
       "            oob_score=False, random_state=None, verbose=0,\n",
       "            warm_start=False)"
      ]
     },
     "execution_count": 192,
     "metadata": {},
     "output_type": "execute_result"
    }
   ],
   "source": [
    "from sklearn import ensemble\n",
    "\n",
    "# Instantiate model\n",
    "rf = ensemble.RandomForestClassifier(n_estimators=20)\n",
    "\n",
    "# Train model on training set\n",
    "rf.fit(X_train, y_train['is_walk'])"
   ]
  },
  {
   "cell_type": "code",
   "execution_count": 193,
   "metadata": {
    "collapsed": false
   },
   "outputs": [
    {
     "name": "stdout",
     "output_type": "stream",
     "text": [
      "Accuracy: 0.996\n",
      "Accuracy: 0.969\n"
     ]
    }
   ],
   "source": [
    "# Evaluate model on train set\n",
    "print \"Accuracy: %0.3f\" % rf.score(X_train, y_train['is_walk'])\n",
    "\n",
    "# Evaluate model on test set\n",
    "print \"Accuracy: %0.3f\" % rf.score(X_test, y_test['is_walk'])"
   ]
  },
  {
   "cell_type": "code",
   "execution_count": 196,
   "metadata": {
    "collapsed": false
   },
   "outputs": [
    {
     "name": "stdout",
     "output_type": "stream",
     "text": [
      "Best Params:\n",
      "{'n_estimators': 2}\n",
      "Accuracy of current model: 0.977\n",
      "Accuracy using best param: 0.934\n",
      "RandomForestClassifier(bootstrap=True, class_weight=None, criterion='gini',\n",
      "            max_depth=None, max_features='auto', max_leaf_nodes=None,\n",
      "            min_samples_leaf=1, min_samples_split=2,\n",
      "            min_weight_fraction_leaf=0.0, n_estimators=3, n_jobs=1,\n",
      "            oob_score=False, random_state=None, verbose=0,\n",
      "            warm_start=False)\n",
      "Accuracy of current model: 0.977\n",
      "RandomForestClassifier(bootstrap=True, class_weight=None, criterion='gini',\n",
      "            max_depth=None, max_features='auto', max_leaf_nodes=None,\n",
      "            min_samples_leaf=1, min_samples_split=2,\n",
      "            min_weight_fraction_leaf=0.0, n_estimators=2, n_jobs=1,\n",
      "            oob_score=False, random_state=None, verbose=0,\n",
      "            warm_start=False)\n",
      "Accuracy of updated model: 0.961\n"
     ]
    },
    {
     "data": {
      "image/png": "[encoded data removed]",
      "text/plain": [
       "<matplotlib.figure.Figure at 0x11e1c9bd0>"
      ]
     },
     "metadata": {},
     "output_type": "display_data"
    }
   ],
   "source": [
    "# Set list of values to grid search over\n",
    "n = [1, 2, 3, 10, 20, 30, 100, 200, 300]\n",
    "params = {'n_estimators': n}\n",
    "\n",
    "# Perform grid search using list of values\n",
    "gs = grid_search.GridSearchCV(\n",
    "    estimator=ensemble.RandomForestClassifier(),\n",
    "    param_grid=params)\n",
    "gs.fit(X_train, y_train['is_walk'])\n",
    "\n",
    "# Get best value to use\n",
    "print \"Best Params:\"\n",
    "print gs.best_params_\n",
    "\n",
    "# Get improvement\n",
    "print \"Accuracy of current model: %0.3f\" % rf.score(X_test, y_test['is_walk'])\n",
    "print \"Accuracy using best param: %0.3f\" % gs.best_score_\n",
    "\n",
    "# Plot scores\n",
    "plt.plot(n, [s[1] for s in gs.grid_scores_])\n",
    "\n",
    "# Current model params\n",
    "print rf\n",
    "print \"Accuracy of current model: %0.3f\" % rf.score(X_test, y_test['is_walk'])\n",
    "\n",
    "# Update model params\n",
    "rf.set_params(n_estimators=gs.best_params_['n_estimators'])\n",
    "\n",
    "# Retrain model on new params\n",
    "rf.fit(X_train, y_train['is_walk'])\n",
    "\n",
    "# Updated model params\n",
    "print rf\n",
    "print \"Accuracy of updated model: %0.3f\" % rf.score(X_test, y_test['is_walk'])"
   ]
  },
  {
   "cell_type": "code",
   "execution_count": 197,
   "metadata": {
    "collapsed": false
   },
   "outputs": [
    {
     "data": {
      "text/plain": [
       "<matplotlib.axes._subplots.AxesSubplot at 0x11e08be10>"
      ]
     },
     "execution_count": 197,
     "metadata": {},
     "output_type": "execute_result"
    },
    {
     "data": {
      "image/png": "[encoded data removed]",
      "text/plain": [
       "<matplotlib.figure.Figure at 0x11db23e50>"
      ]
     },
     "metadata": {},
     "output_type": "display_data"
    }
   ],
   "source": [
    "# Plot importances for all features\n",
    "features = X_train.columns\n",
    "feature_importances = rf.feature_importances_\n",
    "\n",
    "features_df = pd.DataFrame({'Features': features, 'Importance Score': feature_importances})\n",
    "features_df.sort_values('Importance Score', inplace=True, ascending=False)\n",
    "\n",
    "sns.barplot(y='Features', x='Importance Score', data=features_df)"
   ]
  },
  {
   "cell_type": "code",
   "execution_count": 180,
   "metadata": {
    "collapsed": true
   },
   "outputs": [],
   "source": [
    "trainDF = balanceData(trainFeaturesDF,'is_walk')"
   ]
  },
  {
   "cell_type": "code",
   "execution_count": 181,
   "metadata": {
    "collapsed": true
   },
   "outputs": [],
   "source": [
    "# Set target variable name\n",
    "target = []\n",
    "for feature in trainDF.columns:\n",
    "    if 'is_' in feature:\n",
    "        target.append(feature)\n",
    "\n",
    "# Set X and y\n",
    "X_train = trainDF.drop(target, axis=1)\n",
    "y_train = trainDF[target]\n",
    "X_test = testFeaturesDF.drop(target, axis=1)\n",
    "y_test = testFeaturesDF[target]"
   ]
  },
  {
   "cell_type": "code",
   "execution_count": 182,
   "metadata": {
    "collapsed": false
   },
   "outputs": [
    {
     "data": {
      "text/plain": [
       "RandomForestClassifier(bootstrap=True, class_weight=None, criterion='gini',\n",
       "            max_depth=None, max_features='auto', max_leaf_nodes=None,\n",
       "            min_samples_leaf=1, min_samples_split=2,\n",
       "            min_weight_fraction_leaf=0.0, n_estimators=20, n_jobs=1,\n",
       "            oob_score=False, random_state=None, verbose=0,\n",
       "            warm_start=False)"
      ]
     },
     "execution_count": 182,
     "metadata": {},
     "output_type": "execute_result"
    }
   ],
   "source": [
    "from sklearn import ensemble\n",
    "\n",
    "# Instantiate model\n",
    "rf = ensemble.RandomForestClassifier(n_estimators=20)\n",
    "\n",
    "# Train model on training set\n",
    "rf.fit(X_train, y_train['is_walk'])"
   ]
  },
  {
   "cell_type": "code",
   "execution_count": 183,
   "metadata": {
    "collapsed": false
   },
   "outputs": [
    {
     "name": "stdout",
     "output_type": "stream",
     "text": [
      "Accuracy: 1.000\n",
      "Accuracy: 0.969\n"
     ]
    }
   ],
   "source": [
    "# Evaluate model on train set\n",
    "print \"Accuracy: %0.3f\" % rf.score(X_train, y_train['is_walk'])\n",
    "\n",
    "# Evaluate model on test set\n",
    "print \"Accuracy: %0.3f\" % rf.score(X_test, y_test['is_walk'])"
   ]
  },
  {
   "cell_type": "code",
   "execution_count": 184,
   "metadata": {
    "collapsed": false
   },
   "outputs": [
    {
     "name": "stdout",
     "output_type": "stream",
     "text": [
      "Best Params:\n",
      "{'n_estimators': 10}\n",
      "Accuracy of current model: 0.969\n",
      "Accuracy using best param: 0.938\n",
      "RandomForestClassifier(bootstrap=True, class_weight=None, criterion='gini',\n",
      "            max_depth=None, max_features='auto', max_leaf_nodes=None,\n",
      "            min_samples_leaf=1, min_samples_split=2,\n",
      "            min_weight_fraction_leaf=0.0, n_estimators=20, n_jobs=1,\n",
      "            oob_score=False, random_state=None, verbose=0,\n",
      "            warm_start=False)\n",
      "Accuracy of current model: 0.969\n",
      "RandomForestClassifier(bootstrap=True, class_weight=None, criterion='gini',\n",
      "            max_depth=None, max_features='auto', max_leaf_nodes=None,\n",
      "            min_samples_leaf=1, min_samples_split=2,\n",
      "            min_weight_fraction_leaf=0.0, n_estimators=10, n_jobs=1,\n",
      "            oob_score=False, random_state=None, verbose=0,\n",
      "            warm_start=False)\n",
      "Accuracy of updated model: 0.969\n"
     ]
    },
    {
     "data": {
      "image/png": "[encoded data removed]",
      "text/plain": [
       "<matplotlib.figure.Figure at 0x11e29ed10>"
      ]
     },
     "metadata": {},
     "output_type": "display_data"
    }
   ],
   "source": [
    "# Set list of values to grid search over\n",
    "n = [1, 2, 3, 10, 20, 30, 100, 200, 300]\n",
    "params = {'n_estimators': n}\n",
    "\n",
    "# Perform grid search using list of values\n",
    "gs = grid_search.GridSearchCV(\n",
    "    estimator=ensemble.RandomForestClassifier(),\n",
    "    param_grid=params)\n",
    "gs.fit(X_train, y_train['is_walk'])\n",
    "\n",
    "# Get best value to use\n",
    "print \"Best Params:\"\n",
    "print gs.best_params_\n",
    "\n",
    "# Get improvement\n",
    "print \"Accuracy of current model: %0.3f\" % rf.score(X_test, y_test['is_walk'])\n",
    "print \"Accuracy using best param: %0.3f\" % gs.best_score_\n",
    "\n",
    "# Plot scores\n",
    "plt.plot(n, [s[1] for s in gs.grid_scores_])\n",
    "\n",
    "# Current model params\n",
    "print rf\n",
    "print \"Accuracy of current model: %0.3f\" % rf.score(X_test, y_test['is_walk'])\n",
    "\n",
    "# Update model params\n",
    "rf.set_params(n_estimators=gs.best_params_['n_estimators'])\n",
    "\n",
    "# Retrain model on new params\n",
    "rf.fit(X_train, y_train['is_walk'])\n",
    "\n",
    "# Updated model params\n",
    "print rf\n",
    "print \"Accuracy of updated model: %0.3f\" % rf.score(X_test, y_test['is_walk'])"
   ]
  },
  {
   "cell_type": "code",
   "execution_count": 185,
   "metadata": {
    "collapsed": false
   },
   "outputs": [
    {
     "data": {
      "text/plain": [
       "<matplotlib.axes._subplots.AxesSubplot at 0x11de8b290>"
      ]
     },
     "execution_count": 185,
     "metadata": {},
     "output_type": "execute_result"
    },
    {
     "data": {
      "image/png": "[encoded data removed]",
      "text/plain": [
       "<matplotlib.figure.Figure at 0x11db02710>"
      ]
     },
     "metadata": {},
     "output_type": "display_data"
    }
   ],
   "source": [
    "# Plot importances for all features\n",
    "features = X_train.columns\n",
    "feature_importances = rf.feature_importances_\n",
    "\n",
    "features_df = pd.DataFrame({'Features': features, 'Importance Score': feature_importances})\n",
    "features_df.sort_values('Importance Score', inplace=True, ascending=False)\n",
    "\n",
    "sns.barplot(y='Features', x='Importance Score', data=features_df)"
   ]
  },
  {
   "cell_type": "markdown",
   "metadata": {},
   "source": [
    "Now re-run the Random Forest classified using the balanced class weight option"
   ]
  },
  {
   "cell_type": "code",
   "execution_count": 198,
   "metadata": {
    "collapsed": true
   },
   "outputs": [],
   "source": [
    "# Set target variable name\n",
    "target = []\n",
    "for feature in trainDF.columns:\n",
    "    if 'is_' in feature:\n",
    "        target.append(feature)\n",
    "\n",
    "# Set X and y\n",
    "X_train = trainFeaturesDF.drop(target, axis=1)\n",
    "y_train = trainFeaturesDF[target]\n",
    "X_test = testFeaturesDF.drop(target, axis=1)\n",
    "y_test = testFeaturesDF[target]"
   ]
  },
  {
   "cell_type": "code",
   "execution_count": 199,
   "metadata": {
    "collapsed": false
   },
   "outputs": [
    {
     "data": {
      "text/plain": [
       "RandomForestClassifier(bootstrap=True, class_weight='balanced',\n",
       "            criterion='gini', max_depth=None, max_features='auto',\n",
       "            max_leaf_nodes=None, min_samples_leaf=1, min_samples_split=2,\n",
       "            min_weight_fraction_leaf=0.0, n_estimators=20, n_jobs=1,\n",
       "            oob_score=False, random_state=None, verbose=0,\n",
       "            warm_start=False)"
      ]
     },
     "execution_count": 199,
     "metadata": {},
     "output_type": "execute_result"
    }
   ],
   "source": [
    "from sklearn import ensemble\n",
    "\n",
    "# Instantiate model\n",
    "rf = ensemble.RandomForestClassifier(n_estimators=20,class_weight='balanced')\n",
    "\n",
    "# Train model on training set\n",
    "rf.fit(X_train, y_train['is_walk'])"
   ]
  },
  {
   "cell_type": "code",
   "execution_count": 200,
   "metadata": {
    "collapsed": false
   },
   "outputs": [
    {
     "name": "stdout",
     "output_type": "stream",
     "text": [
      "Accuracy: 1.000\n",
      "Accuracy: 0.977\n"
     ]
    }
   ],
   "source": [
    "# Evaluate model on train set\n",
    "print \"Accuracy: %0.3f\" % rf.score(X_train, y_train['is_walk'])\n",
    "\n",
    "# Evaluate model on test set\n",
    "print \"Accuracy: %0.3f\" % rf.score(X_test, y_test['is_walk'])"
   ]
  },
  {
   "cell_type": "code",
   "execution_count": 201,
   "metadata": {
    "collapsed": false
   },
   "outputs": [
    {
     "name": "stdout",
     "output_type": "stream",
     "text": [
      "Best Params:\n",
      "{'n_estimators': 20}\n",
      "Accuracy of current model: 0.977\n",
      "Accuracy using best param: 0.941\n",
      "RandomForestClassifier(bootstrap=True, class_weight='balanced',\n",
      "            criterion='gini', max_depth=None, max_features='auto',\n",
      "            max_leaf_nodes=None, min_samples_leaf=1, min_samples_split=2,\n",
      "            min_weight_fraction_leaf=0.0, n_estimators=20, n_jobs=1,\n",
      "            oob_score=False, random_state=None, verbose=0,\n",
      "            warm_start=False)\n",
      "Accuracy of current model: 0.977\n",
      "RandomForestClassifier(bootstrap=True, class_weight='balanced',\n",
      "            criterion='gini', max_depth=None, max_features='auto',\n",
      "            max_leaf_nodes=None, min_samples_leaf=1, min_samples_split=2,\n",
      "            min_weight_fraction_leaf=0.0, n_estimators=20, n_jobs=1,\n",
      "            oob_score=False, random_state=None, verbose=0,\n",
      "            warm_start=False)\n",
      "Accuracy of updated model: 0.969\n"
     ]
    },
    {
     "data": {
      "image/png": "[encoded data removed]",
      "text/plain": [
       "<matplotlib.figure.Figure at 0x11f46f6d0>"
      ]
     },
     "metadata": {},
     "output_type": "display_data"
    }
   ],
   "source": [
    "# Set list of values to grid search over\n",
    "n = [1, 2, 3, 10, 20, 30, 100, 200, 300]\n",
    "params = {'n_estimators': n}\n",
    "\n",
    "# Perform grid search using list of values\n",
    "gs = grid_search.GridSearchCV(\n",
    "    estimator=ensemble.RandomForestClassifier(),\n",
    "    param_grid=params)\n",
    "gs.fit(X_train, y_train['is_walk'])\n",
    "\n",
    "# Get best value to use\n",
    "print \"Best Params:\"\n",
    "print gs.best_params_\n",
    "\n",
    "# Get improvement\n",
    "print \"Accuracy of current model: %0.3f\" % rf.score(X_test, y_test['is_walk'])\n",
    "print \"Accuracy using best param: %0.3f\" % gs.best_score_\n",
    "\n",
    "# Plot scores\n",
    "plt.plot(n, [s[1] for s in gs.grid_scores_])\n",
    "\n",
    "# Current model params\n",
    "print rf\n",
    "print \"Accuracy of current model: %0.3f\" % rf.score(X_test, y_test['is_walk'])\n",
    "\n",
    "# Update model params\n",
    "rf.set_params(n_estimators=gs.best_params_['n_estimators'])\n",
    "\n",
    "# Retrain model on new params\n",
    "rf.fit(X_train, y_train['is_walk'])\n",
    "\n",
    "# Updated model params\n",
    "print rf\n",
    "print \"Accuracy of updated model: %0.3f\" % rf.score(X_test, y_test['is_walk'])"
   ]
  },
  {
   "cell_type": "code",
   "execution_count": 202,
   "metadata": {
    "collapsed": false
   },
   "outputs": [
    {
     "data": {
      "text/plain": [
       "<matplotlib.axes._subplots.AxesSubplot at 0x11de6a9d0>"
      ]
     },
     "execution_count": 202,
     "metadata": {},
     "output_type": "execute_result"
    },
    {
     "data": {
      "image/png": "[encoded data removed]",
      "text/plain": [
       "<matplotlib.figure.Figure at 0x11f441ed0>"
      ]
     },
     "metadata": {},
     "output_type": "display_data"
    }
   ],
   "source": [
    "# Plot importances for all features\n",
    "features = X_train.columns\n",
    "feature_importances = rf.feature_importances_\n",
    "\n",
    "features_df = pd.DataFrame({'Features': features, 'Importance Score': feature_importances})\n",
    "features_df.sort_values('Importance Score', inplace=True, ascending=False)\n",
    "\n",
    "sns.barplot(y='Features', x='Importance Score', data=features_df)"
   ]
  },
  {
   "cell_type": "markdown",
   "metadata": {},
   "source": [
    "Run a Random Forest Classifier using the balanced class_weight for the 'is_use_telephone'"
   ]
  },
  {
   "cell_type": "code",
   "execution_count": 203,
   "metadata": {
    "collapsed": true
   },
   "outputs": [],
   "source": [
    "# Set target variable name\n",
    "target = []\n",
    "for feature in trainDF.columns:\n",
    "    if 'is_' in feature:\n",
    "        target.append(feature)\n",
    "\n",
    "# Set X and y\n",
    "X_train = trainFeaturesDF.drop(target, axis=1)\n",
    "y_train = trainFeaturesDF[target]\n",
    "X_test = testFeaturesDF.drop(target, axis=1)\n",
    "y_test = testFeaturesDF[target]"
   ]
  },
  {
   "cell_type": "code",
   "execution_count": 204,
   "metadata": {
    "collapsed": false
   },
   "outputs": [
    {
     "data": {
      "text/plain": [
       "RandomForestClassifier(bootstrap=True, class_weight='balanced',\n",
       "            criterion='gini', max_depth=None, max_features='auto',\n",
       "            max_leaf_nodes=None, min_samples_leaf=1, min_samples_split=2,\n",
       "            min_weight_fraction_leaf=0.0, n_estimators=20, n_jobs=1,\n",
       "            oob_score=False, random_state=None, verbose=0,\n",
       "            warm_start=False)"
      ]
     },
     "execution_count": 204,
     "metadata": {},
     "output_type": "execute_result"
    }
   ],
   "source": [
    "from sklearn import ensemble\n",
    "\n",
    "# Instantiate model\n",
    "rf = ensemble.RandomForestClassifier(n_estimators=20,class_weight='balanced')\n",
    "\n",
    "# Train model on training set\n",
    "rf.fit(X_train, y_train['is_use_telephone'])"
   ]
  },
  {
   "cell_type": "code",
   "execution_count": 206,
   "metadata": {
    "collapsed": false
   },
   "outputs": [
    {
     "name": "stdout",
     "output_type": "stream",
     "text": [
      "Accuracy: 1.000\n",
      "Accuracy: 0.984\n"
     ]
    }
   ],
   "source": [
    "# Evaluate model on train set\n",
    "print \"Accuracy: %0.3f\" % rf.score(X_train, y_train['is_use_telephone'])\n",
    "\n",
    "# Evaluate model on test set\n",
    "print \"Accuracy: %0.3f\" % rf.score(X_test, y_test['is_use_telephone'])"
   ]
  },
  {
   "cell_type": "code",
   "execution_count": 207,
   "metadata": {
    "collapsed": false
   },
   "outputs": [
    {
     "name": "stdout",
     "output_type": "stream",
     "text": [
      "Best Params:\n",
      "{'n_estimators': 30}\n",
      "Accuracy of current model: 0.984\n",
      "Accuracy using best param: 0.992\n",
      "RandomForestClassifier(bootstrap=True, class_weight='balanced',\n",
      "            criterion='gini', max_depth=None, max_features='auto',\n",
      "            max_leaf_nodes=None, min_samples_leaf=1, min_samples_split=2,\n",
      "            min_weight_fraction_leaf=0.0, n_estimators=20, n_jobs=1,\n",
      "            oob_score=False, random_state=None, verbose=0,\n",
      "            warm_start=False)\n",
      "Accuracy of current model: 0.984\n",
      "RandomForestClassifier(bootstrap=True, class_weight='balanced',\n",
      "            criterion='gini', max_depth=None, max_features='auto',\n",
      "            max_leaf_nodes=None, min_samples_leaf=1, min_samples_split=2,\n",
      "            min_weight_fraction_leaf=0.0, n_estimators=30, n_jobs=1,\n",
      "            oob_score=False, random_state=None, verbose=0,\n",
      "            warm_start=False)\n",
      "Accuracy of updated model: 0.984\n"
     ]
    },
    {
     "data": {
      "image/png": "[encoded data removed]",
      "text/plain": [
       "<matplotlib.figure.Figure at 0x11f24e650>"
      ]
     },
     "metadata": {},
     "output_type": "display_data"
    }
   ],
   "source": [
    "# Set list of values to grid search over\n",
    "n = [1, 2, 3, 10, 20, 30, 100, 200, 300]\n",
    "params = {'n_estimators': n}\n",
    "\n",
    "# Perform grid search using list of values\n",
    "gs = grid_search.GridSearchCV(\n",
    "    estimator=ensemble.RandomForestClassifier(),\n",
    "    param_grid=params)\n",
    "gs.fit(X_train, y_train['is_use_telephone'])\n",
    "\n",
    "# Get best value to use\n",
    "print \"Best Params:\"\n",
    "print gs.best_params_\n",
    "\n",
    "# Get improvement\n",
    "print \"Accuracy of current model: %0.3f\" % rf.score(X_test, y_test['is_use_telephone'])\n",
    "print \"Accuracy using best param: %0.3f\" % gs.best_score_\n",
    "\n",
    "# Plot scores\n",
    "plt.plot(n, [s[1] for s in gs.grid_scores_])\n",
    "\n",
    "# Current model params\n",
    "print rf\n",
    "print \"Accuracy of current model: %0.3f\" % rf.score(X_test, y_test['is_use_telephone'])\n",
    "\n",
    "# Update model params\n",
    "rf.set_params(n_estimators=gs.best_params_['n_estimators'])\n",
    "\n",
    "# Retrain model on new params\n",
    "rf.fit(X_train, y_train['is_use_telephone'])\n",
    "\n",
    "# Updated model params\n",
    "print rf\n",
    "print \"Accuracy of updated model: %0.3f\" % rf.score(X_test, y_test['is_use_telephone'])"
   ]
  },
  {
   "cell_type": "code",
   "execution_count": 208,
   "metadata": {
    "collapsed": false
   },
   "outputs": [
    {
     "data": {
      "text/plain": [
       "<matplotlib.axes._subplots.AxesSubplot at 0x11f5b7b50>"
      ]
     },
     "execution_count": 208,
     "metadata": {},
     "output_type": "execute_result"
    },
    {
     "data": {
      "image/png": "[encoded data removed]",
      "text/plain": [
       "<matplotlib.figure.Figure at 0x11f8b3c50>"
      ]
     },
     "metadata": {},
     "output_type": "display_data"
    }
   ],
   "source": [
    "# Plot importances for all features\n",
    "features = X_train.columns\n",
    "feature_importances = rf.feature_importances_\n",
    "\n",
    "features_df = pd.DataFrame({'Features': features, 'Importance Score': feature_importances})\n",
    "features_df.sort_values('Importance Score', inplace=True, ascending=False)\n",
    "\n",
    "sns.barplot(y='Features', x='Importance Score', data=features_df)"
   ]
  },
  {
   "cell_type": "code",
   "execution_count": 209,
   "metadata": {
    "collapsed": false
   },
   "outputs": [
    {
     "data": {
      "image/png": "[encoded data removed]",
      "text/plain": [
       "<matplotlib.figure.Figure at 0x11f573210>"
      ]
     },
     "metadata": {},
     "output_type": "display_data"
    },
    {
     "name": "stdout",
     "output_type": "stream",
     "text": [
      "Confusion Matrix:\n",
      "[[127   0]\n",
      " [  2   0]]\n"
     ]
    }
   ],
   "source": [
    "# Get confusion matrix on test set\n",
    "y_pred = rf.predict(X_test)\n",
    "cm = metrics.confusion_matrix(y_test['is_use_telephone'], y_pred)\n",
    "cm_normalized = cm.astype('float') / cm.sum(axis=1)[:, np.newaxis]\n",
    "\n",
    "ax = plt.axes()\n",
    "sns.heatmap(cm_normalized, annot=True)\n",
    "ax.set_ylabel('True')\n",
    "ax.set_xlabel('Pred')\n",
    "plt.show()\n",
    "\n",
    "print \"Confusion Matrix:\"\n",
    "print cm"
   ]
  },
  {
   "cell_type": "markdown",
   "metadata": {},
   "source": [
    "Create a multi-label classifier using OneVsRest classified and Random Forest"
   ]
  },
  {
   "cell_type": "code",
   "execution_count": 294,
   "metadata": {
    "collapsed": false
   },
   "outputs": [],
   "source": [
    "trainDF = createFeatures(trainList)\n",
    "testDF = createFeatures(testList)"
   ]
  },
  {
   "cell_type": "code",
   "execution_count": 295,
   "metadata": {
    "collapsed": false
   },
   "outputs": [],
   "source": [
    "# The features dataframe has been initialised as all objects whereas all\n",
    "# columns other than activity should be float.  Convert to correct data type\n",
    "# so can create plots in exploratory analysis\n",
    "col_names = testDF.columns\n",
    "col_names = col_names[0:(len(col_names)-1)]  # drop activity from col_names\n",
    "trainDF[col_names] = trainDF[col_names].astype(float)\n",
    "trainDF.activity = trainDF.activity.astype(str)\n",
    "testDF[col_names] = testDF[col_names].astype(float)\n",
    "testDF.activity = testDF.activity.astype(str)"
   ]
  },
  {
   "cell_type": "code",
   "execution_count": 296,
   "metadata": {
    "collapsed": false
   },
   "outputs": [],
   "source": [
    "def flattenActivity(df_train,df_test):\n",
    "    labels = df_train['activity'].unique()\n",
    "    label_to_number = {label: i for i, label in enumerate(set(labels), 1)}\n",
    "    lst = [(label_to_number[label], label) for label in labels]\n",
    "    activity_dict = {}\n",
    "    for num, activity in lst:\n",
    "        activity_dict[activity] = num\n",
    "    for row in range(0,len(df_train)):\n",
    "        df_train['activity'].iloc[row] = activity_dict[df_train['activity'].iloc[row]]\n",
    "    for row in range(0,len(df_test)):\n",
    "        df_test['activity'].iloc[row] = activity_dict[df_test['activity'].iloc[row]]\n",
    "    return df_train, df_test,activity_dict\n",
    "\n",
    "trainDF,testDF,activity_dict = flattenActivity(trainDF,testDF)"
   ]
  },
  {
   "cell_type": "code",
   "execution_count": 249,
   "metadata": {
    "collapsed": false
   },
   "outputs": [
    {
     "data": {
      "text/html": [
       "<div>\n",
       "<table border=\"1\" class=\"dataframe\">\n",
       "  <thead>\n",
       "    <tr style=\"text-align: right;\">\n",
       "      <th></th>\n",
       "      <th>x_max</th>\n",
       "      <th>y_max</th>\n",
       "      <th>z_max</th>\n",
       "      <th>tot_max</th>\n",
       "      <th>x_min</th>\n",
       "      <th>y_min</th>\n",
       "      <th>z_min</th>\n",
       "      <th>tot_min</th>\n",
       "      <th>x_mean</th>\n",
       "      <th>y_mean</th>\n",
       "      <th>z_mean</th>\n",
       "      <th>tot_mean</th>\n",
       "      <th>x_rms</th>\n",
       "      <th>y_rms</th>\n",
       "      <th>z_rms</th>\n",
       "      <th>tot_rms</th>\n",
       "      <th>totTime</th>\n",
       "      <th>activity</th>\n",
       "    </tr>\n",
       "  </thead>\n",
       "  <tbody>\n",
       "    <tr>\n",
       "      <th>0</th>\n",
       "      <td>0.023810</td>\n",
       "      <td>0.690476</td>\n",
       "      <td>1.023810</td>\n",
       "      <td>1.125614</td>\n",
       "      <td>-0.976190</td>\n",
       "      <td>0.166667</td>\n",
       "      <td>0.166667</td>\n",
       "      <td>0.817537</td>\n",
       "      <td>-0.698129</td>\n",
       "      <td>0.343254</td>\n",
       "      <td>0.448980</td>\n",
       "      <td>0.995518</td>\n",
       "      <td>0.767131</td>\n",
       "      <td>0.353572</td>\n",
       "      <td>0.529754</td>\n",
       "      <td>0.997067</td>\n",
       "      <td>5.25000</td>\n",
       "      <td>1</td>\n",
       "    </tr>\n",
       "    <tr>\n",
       "      <th>1</th>\n",
       "      <td>0.214286</td>\n",
       "      <td>0.452381</td>\n",
       "      <td>1.119048</td>\n",
       "      <td>1.201615</td>\n",
       "      <td>-1.023810</td>\n",
       "      <td>-0.071429</td>\n",
       "      <td>0.166667</td>\n",
       "      <td>0.828558</td>\n",
       "      <td>-0.580683</td>\n",
       "      <td>0.156383</td>\n",
       "      <td>0.525471</td>\n",
       "      <td>0.991714</td>\n",
       "      <td>0.743748</td>\n",
       "      <td>0.224283</td>\n",
       "      <td>0.618927</td>\n",
       "      <td>0.993245</td>\n",
       "      <td>9.40625</td>\n",
       "      <td>1</td>\n",
       "    </tr>\n",
       "    <tr>\n",
       "      <th>2</th>\n",
       "      <td>0.166667</td>\n",
       "      <td>0.547619</td>\n",
       "      <td>1.071429</td>\n",
       "      <td>1.197834</td>\n",
       "      <td>-1.166667</td>\n",
       "      <td>-0.214286</td>\n",
       "      <td>0.023810</td>\n",
       "      <td>0.713889</td>\n",
       "      <td>-0.626582</td>\n",
       "      <td>0.246986</td>\n",
       "      <td>0.439873</td>\n",
       "      <td>0.994375</td>\n",
       "      <td>0.762173</td>\n",
       "      <td>0.272881</td>\n",
       "      <td>0.579552</td>\n",
       "      <td>0.995617</td>\n",
       "      <td>9.87500</td>\n",
       "      <td>1</td>\n",
       "    </tr>\n",
       "    <tr>\n",
       "      <th>3</th>\n",
       "      <td>-0.023810</td>\n",
       "      <td>0.261905</td>\n",
       "      <td>1.071429</td>\n",
       "      <td>1.171032</td>\n",
       "      <td>-1.119048</td>\n",
       "      <td>-0.404762</td>\n",
       "      <td>-0.357143</td>\n",
       "      <td>0.691297</td>\n",
       "      <td>-0.739796</td>\n",
       "      <td>0.117914</td>\n",
       "      <td>0.358560</td>\n",
       "      <td>0.989655</td>\n",
       "      <td>0.808055</td>\n",
       "      <td>0.182884</td>\n",
       "      <td>0.546410</td>\n",
       "      <td>0.992453</td>\n",
       "      <td>5.25000</td>\n",
       "      <td>1</td>\n",
       "    </tr>\n",
       "    <tr>\n",
       "      <th>4</th>\n",
       "      <td>-0.023810</td>\n",
       "      <td>0.452381</td>\n",
       "      <td>1.071429</td>\n",
       "      <td>1.273086</td>\n",
       "      <td>-1.119048</td>\n",
       "      <td>-0.452381</td>\n",
       "      <td>-0.547619</td>\n",
       "      <td>0.825816</td>\n",
       "      <td>-0.524650</td>\n",
       "      <td>0.158543</td>\n",
       "      <td>0.496779</td>\n",
       "      <td>0.993439</td>\n",
       "      <td>0.661126</td>\n",
       "      <td>0.193929</td>\n",
       "      <td>0.717709</td>\n",
       "      <td>0.994888</td>\n",
       "      <td>10.62500</td>\n",
       "      <td>1</td>\n",
       "    </tr>\n",
       "  </tbody>\n",
       "</table>\n",
       "</div>"
      ],
      "text/plain": [
       "      x_max     y_max     z_max   tot_max     x_min     y_min     z_min  \\\n",
       "0  0.023810  0.690476  1.023810  1.125614 -0.976190  0.166667  0.166667   \n",
       "1  0.214286  0.452381  1.119048  1.201615 -1.023810 -0.071429  0.166667   \n",
       "2  0.166667  0.547619  1.071429  1.197834 -1.166667 -0.214286  0.023810   \n",
       "3 -0.023810  0.261905  1.071429  1.171032 -1.119048 -0.404762 -0.357143   \n",
       "4 -0.023810  0.452381  1.071429  1.273086 -1.119048 -0.452381 -0.547619   \n",
       "\n",
       "    tot_min    x_mean    y_mean    z_mean  tot_mean     x_rms     y_rms  \\\n",
       "0  0.817537 -0.698129  0.343254  0.448980  0.995518  0.767131  0.353572   \n",
       "1  0.828558 -0.580683  0.156383  0.525471  0.991714  0.743748  0.224283   \n",
       "2  0.713889 -0.626582  0.246986  0.439873  0.994375  0.762173  0.272881   \n",
       "3  0.691297 -0.739796  0.117914  0.358560  0.989655  0.808055  0.182884   \n",
       "4  0.825816 -0.524650  0.158543  0.496779  0.993439  0.661126  0.193929   \n",
       "\n",
       "      z_rms   tot_rms   totTime activity  \n",
       "0  0.529754  0.997067   5.25000        1  \n",
       "1  0.618927  0.993245   9.40625        1  \n",
       "2  0.579552  0.995617   9.87500        1  \n",
       "3  0.546410  0.992453   5.25000        1  \n",
       "4  0.717709  0.994888  10.62500        1  "
      ]
     },
     "execution_count": 249,
     "metadata": {},
     "output_type": "execute_result"
    }
   ],
   "source": [
    "trainDF.head()"
   ]
  },
  {
   "cell_type": "code",
   "execution_count": 259,
   "metadata": {
    "collapsed": false
   },
   "outputs": [
    {
     "data": {
      "text/html": [
       "<div>\n",
       "<table border=\"1\" class=\"dataframe\">\n",
       "  <thead>\n",
       "    <tr style=\"text-align: right;\">\n",
       "      <th></th>\n",
       "      <th>x_max</th>\n",
       "      <th>y_max</th>\n",
       "      <th>z_max</th>\n",
       "      <th>tot_max</th>\n",
       "      <th>x_min</th>\n",
       "      <th>y_min</th>\n",
       "      <th>z_min</th>\n",
       "      <th>tot_min</th>\n",
       "      <th>x_mean</th>\n",
       "      <th>y_mean</th>\n",
       "      <th>z_mean</th>\n",
       "      <th>tot_mean</th>\n",
       "      <th>x_rms</th>\n",
       "      <th>y_rms</th>\n",
       "      <th>z_rms</th>\n",
       "      <th>tot_rms</th>\n",
       "      <th>totTime</th>\n",
       "      <th>activity</th>\n",
       "    </tr>\n",
       "  </thead>\n",
       "  <tbody>\n",
       "    <tr>\n",
       "      <th>0</th>\n",
       "      <td>0.214286</td>\n",
       "      <td>1.071429</td>\n",
       "      <td>1.023810</td>\n",
       "      <td>1.236950</td>\n",
       "      <td>-1.166667</td>\n",
       "      <td>-0.071429</td>\n",
       "      <td>-0.119048</td>\n",
       "      <td>0.768941</td>\n",
       "      <td>-0.402958</td>\n",
       "      <td>0.372535</td>\n",
       "      <td>0.509500</td>\n",
       "      <td>1.009512</td>\n",
       "      <td>0.640474</td>\n",
       "      <td>0.430777</td>\n",
       "      <td>0.653923</td>\n",
       "      <td>1.011628</td>\n",
       "      <td>12.37500</td>\n",
       "      <td>1</td>\n",
       "    </tr>\n",
       "    <tr>\n",
       "      <th>1</th>\n",
       "      <td>0.119048</td>\n",
       "      <td>0.642857</td>\n",
       "      <td>1.119048</td>\n",
       "      <td>1.512420</td>\n",
       "      <td>-1.452381</td>\n",
       "      <td>-0.976190</td>\n",
       "      <td>-0.785714</td>\n",
       "      <td>0.704295</td>\n",
       "      <td>-0.662826</td>\n",
       "      <td>0.013057</td>\n",
       "      <td>0.272219</td>\n",
       "      <td>0.986880</td>\n",
       "      <td>0.775851</td>\n",
       "      <td>0.240871</td>\n",
       "      <td>0.569122</td>\n",
       "      <td>0.991899</td>\n",
       "      <td>6.78125</td>\n",
       "      <td>1</td>\n",
       "    </tr>\n",
       "    <tr>\n",
       "      <th>2</th>\n",
       "      <td>0.500000</td>\n",
       "      <td>0.833333</td>\n",
       "      <td>1.261905</td>\n",
       "      <td>1.545053</td>\n",
       "      <td>-1.500000</td>\n",
       "      <td>-0.309524</td>\n",
       "      <td>-0.785714</td>\n",
       "      <td>0.318550</td>\n",
       "      <td>-0.658730</td>\n",
       "      <td>0.345805</td>\n",
       "      <td>0.295918</td>\n",
       "      <td>1.001881</td>\n",
       "      <td>0.777355</td>\n",
       "      <td>0.407222</td>\n",
       "      <td>0.519904</td>\n",
       "      <td>1.020006</td>\n",
       "      <td>5.25000</td>\n",
       "      <td>1</td>\n",
       "    </tr>\n",
       "    <tr>\n",
       "      <th>3</th>\n",
       "      <td>0.595238</td>\n",
       "      <td>1.166667</td>\n",
       "      <td>1.119048</td>\n",
       "      <td>1.545053</td>\n",
       "      <td>-1.166667</td>\n",
       "      <td>-0.357143</td>\n",
       "      <td>-0.071429</td>\n",
       "      <td>0.643738</td>\n",
       "      <td>-0.500664</td>\n",
       "      <td>0.490476</td>\n",
       "      <td>0.427575</td>\n",
       "      <td>1.016040</td>\n",
       "      <td>0.659443</td>\n",
       "      <td>0.539587</td>\n",
       "      <td>0.566886</td>\n",
       "      <td>1.023415</td>\n",
       "      <td>6.71875</td>\n",
       "      <td>1</td>\n",
       "    </tr>\n",
       "    <tr>\n",
       "      <th>4</th>\n",
       "      <td>0.071429</td>\n",
       "      <td>0.595238</td>\n",
       "      <td>1.119048</td>\n",
       "      <td>1.651461</td>\n",
       "      <td>-1.500000</td>\n",
       "      <td>-0.500000</td>\n",
       "      <td>-0.690476</td>\n",
       "      <td>0.647251</td>\n",
       "      <td>-0.737037</td>\n",
       "      <td>0.209259</td>\n",
       "      <td>0.310847</td>\n",
       "      <td>0.998700</td>\n",
       "      <td>0.825847</td>\n",
       "      <td>0.267238</td>\n",
       "      <td>0.508073</td>\n",
       "      <td>1.005772</td>\n",
       "      <td>5.62500</td>\n",
       "      <td>1</td>\n",
       "    </tr>\n",
       "  </tbody>\n",
       "</table>\n",
       "</div>"
      ],
      "text/plain": [
       "      x_max     y_max     z_max   tot_max     x_min     y_min     z_min  \\\n",
       "0  0.214286  1.071429  1.023810  1.236950 -1.166667 -0.071429 -0.119048   \n",
       "1  0.119048  0.642857  1.119048  1.512420 -1.452381 -0.976190 -0.785714   \n",
       "2  0.500000  0.833333  1.261905  1.545053 -1.500000 -0.309524 -0.785714   \n",
       "3  0.595238  1.166667  1.119048  1.545053 -1.166667 -0.357143 -0.071429   \n",
       "4  0.071429  0.595238  1.119048  1.651461 -1.500000 -0.500000 -0.690476   \n",
       "\n",
       "    tot_min    x_mean    y_mean    z_mean  tot_mean     x_rms     y_rms  \\\n",
       "0  0.768941 -0.402958  0.372535  0.509500  1.009512  0.640474  0.430777   \n",
       "1  0.704295 -0.662826  0.013057  0.272219  0.986880  0.775851  0.240871   \n",
       "2  0.318550 -0.658730  0.345805  0.295918  1.001881  0.777355  0.407222   \n",
       "3  0.643738 -0.500664  0.490476  0.427575  1.016040  0.659443  0.539587   \n",
       "4  0.647251 -0.737037  0.209259  0.310847  0.998700  0.825847  0.267238   \n",
       "\n",
       "      z_rms   tot_rms   totTime activity  \n",
       "0  0.653923  1.011628  12.37500        1  \n",
       "1  0.569122  0.991899   6.78125        1  \n",
       "2  0.519904  1.020006   5.25000        1  \n",
       "3  0.566886  1.023415   6.71875        1  \n",
       "4  0.508073  1.005772   5.62500        1  "
      ]
     },
     "execution_count": 259,
     "metadata": {},
     "output_type": "execute_result"
    }
   ],
   "source": [
    "testDF.head()"
   ]
  },
  {
   "cell_type": "code",
   "execution_count": 304,
   "metadata": {
    "collapsed": false
   },
   "outputs": [],
   "source": [
    "# Set target variable name\n",
    "target = ['activity']\n",
    "\n",
    "# Set X and y\n",
    "X_train = trainDF.drop(target, axis=1)\n",
    "y_train = np.array(trainDF[target].astype(float))\n",
    "X_test = testDF.drop(target, axis=1)\n",
    "y_test = np.array(testDF[target].astype(float))"
   ]
  },
  {
   "cell_type": "code",
   "execution_count": 305,
   "metadata": {
    "collapsed": false
   },
   "outputs": [],
   "source": [
    "from sklearn.multiclass import OneVsRestClassifier\n",
    "clf = OneVsRestClassifier(ensemble.RandomForestClassifier(n_estimators=20,class_weight='balanced')).fit(X_train, y_train)"
   ]
  },
  {
   "cell_type": "code",
   "execution_count": 306,
   "metadata": {
    "collapsed": false
   },
   "outputs": [
    {
     "data": {
      "image/png": "[encoded data removed]",
      "text/plain": [
       "<matplotlib.figure.Figure at 0x1208c4f50>"
      ]
     },
     "metadata": {},
     "output_type": "display_data"
    },
    {
     "name": "stdout",
     "output_type": "stream",
     "text": [
      "value: 1 , activity: standup_chair\n",
      "value: 2 , activity: comb_hair\n",
      "value: 3 , activity: drink_glass\n",
      "value: 4 , activity: brush_teeth\n",
      "value: 5 , activity: liedown_bed\n",
      "value: 6 , activity: use_telephone\n",
      "value: 7 , activity: walk\n",
      "value: 8 , activity: sitdown_chair\n",
      "value: 9 , activity: getup_bed\n",
      "value: 10 , activity: pour_water\n",
      "value: 11 , activity: descend_stairs\n"
     ]
    }
   ],
   "source": [
    "# Get confusion matrix on test set\n",
    "y_pred = clf.predict(X_test)\n",
    "cm = metrics.confusion_matrix(y_test, y_pred)\n",
    "\n",
    "cm_normalized = cm.astype('float') / cm.sum(axis=1)[:, np.newaxis]\n",
    "\n",
    "ax = plt.axes()\n",
    "sns.heatmap(cm_normalized, annot=True)\n",
    "ax.set_ylabel('True')\n",
    "ax.set_xlabel('Pred')\n",
    "plt.show()\n",
    "\n",
    "for key in activity_dict:\n",
    "    print \"value: %s , activity: %s\" % (activity_dict[key], key)\n",
    "       "
   ]
  },
  {
   "cell_type": "code",
   "execution_count": null,
   "metadata": {
    "collapsed": true
   },
   "outputs": [],
   "source": [
    "activity_dict"
   ]
  },
  {
   "cell_type": "code",
   "execution_count": null,
   "metadata": {
    "collapsed": true
   },
   "outputs": [],
   "source": [
    "activity_dict"
   ]
  },
  {
   "cell_type": "code",
   "execution_count": null,
   "metadata": {
    "collapsed": true
   },
   "outputs": [],
   "source": [
    "df"
   ]
  },
  {
   "cell_type": "code",
   "execution_count": null,
   "metadata": {
    "collapsed": true
   },
   "outputs": [],
   "source": []
  }
 ],
 "metadata": {
  "kernelspec": {
   "display_name": "Python 2",
   "language": "python",
   "name": "python2"
  },
  "language_info": {
   "codemirror_mode": {
    "name": "ipython",
    "version": 2
   },
   "file_extension": ".py",
   "mimetype": "text/x-python",
   "name": "python",
   "nbconvert_exporter": "python",
   "pygments_lexer": "ipython2",
   "version": "2.7.12"
  }
 },
 "nbformat": 4,
 "nbformat_minor": 0
}
